{
 "cells": [
  {
   "cell_type": "markdown",
   "id": "16a60488",
   "metadata": {},
   "source": [
    "# Background Correction\n",
    "\n",
    "<div class=\"custom-button-row\">\n",
    "    <a \n",
    "        class=\"custom-button custom-download-button\" href=\"../../notebooks/07_measurement_and_quantification/background_correction_notebook.ipynb\" download>\n",
    "        <i class=\"fas fa-download\"></i> Download this Notebook\n",
    "    </a>\n",
    "    <a\n",
    "    class=\"custom-button custom-download-button\" href=\"https://colab.research.google.com/github/HMS-IAC/bobiac/blob/gh-pages/colab_notebooks/07_measurement_and_quantification/background_correction_notebook.ipynb\" target=\"_blank\">\n",
    "        <img class=\"button-icon\" src=\"../../_static/logo/icon-google-colab.svg\" alt=\"Open in Colab\">\n",
    "        Open in Colab\n",
    "    </a>\n",
    "</div>"
   ]
  },
  {
   "cell_type": "code",
   "execution_count": null,
   "id": "9f33553a",
   "metadata": {},
   "outputs": [],
   "source": [
    "# /// script\n",
    "# requires-python = \">=3.10\"\n",
    "# dependencies = [\n",
    "#     \"matplotlib\",\n",
    "#     \"ndv[jupyter,vispy]\",\n",
    "#     \"numpy\",\n",
    "#     \"scikit-image\",\n",
    "#     \"scipy\",\n",
    "#     \"tifffile\",\n",
    "#     \"imagecodecs\",\n",
    "# ]\n",
    "# ///"
   ]
  },
  {
   "cell_type": "markdown",
   "id": "c9dce539",
   "metadata": {},
   "source": [
    "## Overview\n",
    "\n",
    "In this notebook, we will explore different approaches to **background correction** in fluorescence microscopy images. Background correction is a crucial pre-processing step that helps remove unwanted background signal and improves the quality of quantitative analysis. We will use the [**scikit-image**](https://scikit-image.org/docs/stable/) library to perform the background correction. \n",
    "\n",
    "Background **subtraction** is useful when the background is uniform and the signal to noise ratio is high. We will demonstrate a simple background subtraction method using a sample fluorescence image. The main approaches we'll cover are:\n",
    "\n",
    "- Subtracting a constant background value (e.g. mode or median of the image)\n",
    "- Selecting and averaging background regions to determine background level\n",
    "\n",
    "The choice of method depends on your specific imaging conditions and the nature of the background in your images. Here we'll demonstrate a basic approach that works well for images with relatively uniform background and distinct fluorescent signals.\n",
    "\n",
    "<p class=\"alert alert-info\">\n",
    "    <strong>Note:</strong> Background correction should be done on raw images before any other processing steps. The corrected images can then be used for further analysis like segmentation and quantification.\n",
    "</p>\n",
    "\n",
    "The images we will use for this section can be downloaded from the <a href=\"../../../_static/data/07_measurement_and_quantification.zip\" download> <i class=\"fas fa-download\"></i> Measurements and Quantification Dataset</a>."
   ]
  },
  {
   "cell_type": "markdown",
   "id": "efecac1b",
   "metadata": {},
   "source": [
    "## Importing libraries"
   ]
  },
  {
   "cell_type": "code",
   "execution_count": null,
   "id": "eba1c2bf",
   "metadata": {},
   "outputs": [],
   "source": [
    "import matplotlib.pyplot as plt\n",
    "import ndv\n",
    "import numpy as np\n",
    "import scipy\n",
    "import skimage\n",
    "import tifffile"
   ]
  },
  {
   "cell_type": "markdown",
   "id": "7e61eb55",
   "metadata": {},
   "source": [
    "## Background subtraction: mode subtraction \n",
    "\n",
    "Background subtraction can be done in different ways. If the background dominates the image as in the example we will use, the most common pixel value (the **mode value**) can serve as a rough background estimate to subtract from the image.\n",
    "\n",
    "Let's first load the image, then display it with `ndv` to explore the pixel values of the `07_bg_corr_nuclei.tif` image."
   ]
  },
  {
   "cell_type": "code",
   "execution_count": null,
   "id": "02af28b6",
   "metadata": {},
   "outputs": [],
   "source": [
    "# raw image and labeled mask\n",
    "image = tifffile.imread(\"../../_static/images/quant/07_bg_corr_nuclei.tif\")"
   ]
  },
  {
   "cell_type": "code",
   "execution_count": null,
   "id": "0cc6880d",
   "metadata": {
    "tags": [
     "skip-execution"
    ]
   },
   "outputs": [],
   "source": [
    "ndv.imshow(image)"
   ]
  },
  {
   "cell_type": "code",
   "execution_count": null,
   "id": "11955f9b",
   "metadata": {
    "tags": [
     "remove-input",
     "remove-output"
    ]
   },
   "outputs": [],
   "source": [
    "viewer = ndv.imshow(image)"
   ]
  },
  {
   "cell_type": "code",
   "execution_count": null,
   "id": "773d83cd",
   "metadata": {
    "tags": [
     "remove-input"
    ]
   },
   "outputs": [],
   "source": [
    "viewer.widget().children[1].snapshot()"
   ]
  },
  {
   "cell_type": "markdown",
   "id": "39714a0d",
   "metadata": {},
   "source": [
    "As you can notice, most of the pixels in the image belong to the background (everything but the nuclei). Therefore, we can try to use the **mode value** of the image as a background estimate. We can use the `scipy.stats.mode` function to compute the mode of the image. "
   ]
  },
  {
   "cell_type": "code",
   "execution_count": null,
   "id": "c6681cb2",
   "metadata": {
    "tags": [
     "teacher"
    ]
   },
   "outputs": [],
   "source": [
    "# Flatten image and get the mode\n",
    "mode_val = scipy.stats.mode(image.ravel(), keepdims=False).mode\n",
    "print(f\"Estimated background (mode): {mode_val:.3f}\")"
   ]
  },
  {
   "cell_type": "markdown",
   "id": "213bee35",
   "metadata": {},
   "source": [
    "Then, we can subtract the **mode value** from the image and print the minimum and maximum pixel values of the resulting image.\n",
    "\n",
    "<p class=\"alert alert-info\">\n",
    "    <strong>Important:</strong> Before performing subtraction, convert the image to a <strong>floating-point</strong> (e.g., <code>image.astype(np.float32)</code>. This prevents <strong>unsigned integer underflow</strong>, which occurs when subtracting the mode value from pixels with intensities lower than the mode. In unsigned integer formats (like <code>uint16</code>), negative results wrap around to very large positive values (e.g., -1 becomes 65535), leading to incorrect results.\n",
    "</p>"
   ]
  },
  {
   "cell_type": "code",
   "execution_count": null,
   "id": "09ce4ff0",
   "metadata": {
    "tags": [
     "teacher"
    ]
   },
   "outputs": [],
   "source": [
    "# Subtract mode from the image (after converting to float32)\n",
    "image_mode_sub = image.astype(np.float32) - mode_val\n",
    "print(f\"Min: {image_mode_sub.min():.2f}, Max: {image_mode_sub.max():.2f}\")"
   ]
  },
  {
   "cell_type": "markdown",
   "id": "bbf3cea0",
   "metadata": {},
   "source": [
    "As you can see there are some negative values in the resulting image. This is because some pixels in the original image had values lower than the mode value, and when we subtract the mode from these pixels, we get negative values.\n",
    "\n",
    "To keep working with the image, we need to handle these negative values. One common approach is to clip the negative values to zero, effectively setting any negative pixel values to zero. This is appropriate since we want background-corrected intensities to be greater than or equal to zero.\n",
    "\n",
    "For that, we can use the `numpy` `np.clip` function to set any negative values to zero and then print the minimum and maximum pixel values of the resulting image."
   ]
  },
  {
   "cell_type": "code",
   "execution_count": null,
   "id": "287435d2",
   "metadata": {
    "tags": [
     "teacher"
    ]
   },
   "outputs": [],
   "source": [
    "image_mode_sub_to_zero = np.clip(image_mode_sub, 0, None)\n",
    "print(\n",
    "    f\"Min: {image_mode_sub_to_zero.min():.2f}, Max: {image_mode_sub_to_zero.max():.2f}\"\n",
    ")"
   ]
  },
  {
   "cell_type": "markdown",
   "id": "087ffc20",
   "metadata": {},
   "source": [
    "Finally, we can visualize the background-corrected image (either with `matplotlib` or `ndv`):"
   ]
  },
  {
   "cell_type": "code",
   "execution_count": null,
   "id": "1811d569",
   "metadata": {
    "tags": [
     "teacher"
    ]
   },
   "outputs": [],
   "source": [
    "plt.figure(figsize=(10, 8))\n",
    "plt.subplot(121)\n",
    "plt.imshow(image)\n",
    "plt.title(\"Original\")\n",
    "plt.axis(\"off\")\n",
    "\n",
    "plt.subplot(122)\n",
    "plt.imshow(image_mode_sub_to_zero)\n",
    "plt.title(\"Background subtracted (mode)\")\n",
    "plt.axis(\"off\")\n",
    "\n",
    "plt.tight_layout()\n",
    "plt.show()"
   ]
  },
  {
   "cell_type": "markdown",
   "id": "714947e7",
   "metadata": {},
   "source": [
    "## Background subtraction: selected regions\n",
    "\n",
    "Sometimes the background isn't uniform, or the mode isn't representative. In these cases, we can manually choose one (or more) region we believe contains only background, estimate the average intensity in that region, and then ubtract this average value from the image.\n",
    "\n",
    "To select regions, it might be helpful to first plot the images with the axes turned on, so we can estimate the pixel coordinates of the regions we want to select. Using `matplotlib`, we can even visualize and draw on the image the pixel values in the selected regions with the [`plt.gca().add_patch()`](https://matplotlib.org/stable/api/_as_gen/matplotlib.axes.Axes.add_patch.html#matplotlib-axes-axes-add-patch) function."
   ]
  },
  {
   "cell_type": "code",
   "execution_count": null,
   "id": "84ee4439",
   "metadata": {
    "tags": [
     "teacher"
    ]
   },
   "outputs": [],
   "source": [
    "# plot the image with axis turned on to select a region\n",
    "plt.figure(figsize=(8, 8))\n",
    "plt.imshow(image)\n",
    "# draw a rectangle around the region we want to select\n",
    "x = 600\n",
    "y = 200\n",
    "width = 100\n",
    "height = 100\n",
    "plt.gca().add_patch(\n",
    "    plt.Rectangle(\n",
    "        (x, y),  # top-left corner\n",
    "        width,  # width\n",
    "        height,  # height\n",
    "        edgecolor=\"yellow\",\n",
    "        facecolor=\"none\",\n",
    "        linewidth=2,\n",
    "    )\n",
    ")\n",
    "plt.show()"
   ]
  },
  {
   "cell_type": "markdown",
   "id": "fef11436",
   "metadata": {},
   "source": [
    "Now we can calculate the mean within the selected region."
   ]
  },
  {
   "cell_type": "code",
   "execution_count": null,
   "id": "fa8e98d8",
   "metadata": {
    "tags": [
     "teacher"
    ]
   },
   "outputs": [],
   "source": [
    "# Choose a top-left corner patch assumed to be background\n",
    "# The region selected above is (600, 200) with size 100x100 therefore we can extract the\n",
    "# patch as follows: [y:y+height, x:x+width]\n",
    "bg_patch = image[y : y + height, x : x + width]  # image[200:300, 600:700]\n",
    "bg_mean = np.mean(bg_patch)\n",
    "print(f\"Estimated background (mean of selected region): {bg_mean:.3f}\")"
   ]
  },
  {
   "cell_type": "markdown",
   "id": "a2e33253",
   "metadata": {},
   "source": [
    "As we did before, we can subtract this value from the image, and clip the result to ensure no negative values remain."
   ]
  },
  {
   "cell_type": "code",
   "execution_count": null,
   "id": "5d97266a",
   "metadata": {
    "tags": [
     "teacher"
    ]
   },
   "outputs": [],
   "source": [
    "image_mean_sub = image.astype(np.float32) - mode_val\n",
    "print(f\"Min: {image_mean_sub.min():.2f}, Max: {image_mean_sub.max():.2f}\")\n",
    "image_mean_sub_to_zero = np.clip(image_mean_sub, 0, None)\n",
    "print(\n",
    "    f\"Min: {image_mean_sub_to_zero.min():.2f}, Max: {image_mean_sub_to_zero.max():.2f}\"\n",
    ")"
   ]
  },
  {
   "cell_type": "markdown",
   "id": "fdf99988",
   "metadata": {},
   "source": [
    "Finally, we can visualize the background-corrected image (either with `matplotlib` or `ndv`):"
   ]
  },
  {
   "cell_type": "code",
   "execution_count": null,
   "id": "f7e0fe0f",
   "metadata": {
    "tags": [
     "teacher"
    ]
   },
   "outputs": [],
   "source": [
    "plt.figure(figsize=(8, 8))\n",
    "plt.subplot(121)\n",
    "plt.imshow(image)\n",
    "plt.title(\"Original\")\n",
    "plt.axis(\"off\")\n",
    "\n",
    "plt.subplot(122)\n",
    "plt.imshow(image_mean_sub_to_zero)\n",
    "plt.title(\"Background subtracted (regions)\")\n",
    "plt.axis(\"off\")\n",
    "\n",
    "plt.tight_layout()\n",
    "plt.show()"
   ]
  },
  {
   "cell_type": "markdown",
   "id": "c680c68d",
   "metadata": {},
   "source": [
    "## Background subtraction: rolling ball algorithm\n",
    "\n",
    "Another way of performing background subtraction is the **rolling ball algorithm**. This is a method that uses a [rolling ball](https://scikit-image.org/docs/stable/auto_examples/segmentation/plot_rolling_ball.html) to estimate the background. It is a good method to use when the background is not uniform.\n",
    "\n",
    "The radius parameter configures how distant pixels should be taken into account for determining the background intensity and should be a bit bigger than the size of the structures you want to keep.\n",
    "\n",
    "Let's first load another image of a Drosophila embryo that has a non-uniform background:"
   ]
  },
  {
   "cell_type": "code",
   "execution_count": null,
   "id": "afd39bc4",
   "metadata": {},
   "outputs": [],
   "source": [
    "# raw image\n",
    "image = tifffile.imread(\"../../_static/images/quant/07_bg_corr_WF_drosophila.tif\")"
   ]
  },
  {
   "cell_type": "markdown",
   "id": "022fc75f",
   "metadata": {},
   "source": [
    "Let's explore the pixel values of the image with `ndv`:"
   ]
  },
  {
   "cell_type": "code",
   "execution_count": null,
   "id": "ac1e6fee",
   "metadata": {
    "tags": [
     "skip-execution"
    ]
   },
   "outputs": [],
   "source": [
    "ndv.imshow(image)"
   ]
  },
  {
   "cell_type": "code",
   "execution_count": null,
   "id": "98338d9e",
   "metadata": {
    "tags": [
     "remove-input",
     "remove-output"
    ]
   },
   "outputs": [],
   "source": [
    "viewer = ndv.imshow(image)"
   ]
  },
  {
   "cell_type": "code",
   "execution_count": null,
   "id": "d5b24a79",
   "metadata": {
    "tags": [
     "remove-input"
    ]
   },
   "outputs": [],
   "source": [
    "viewer.widget().children[1].snapshot()"
   ]
  },
  {
   "cell_type": "markdown",
   "id": "4cf40f91",
   "metadata": {},
   "source": [
    "We can now estimate the background by using the rolling ball algorithm. Since this function returns an image (which is the background we want to subtract), we can also visualize it with `matplotlib`:"
   ]
  },
  {
   "cell_type": "code",
   "execution_count": null,
   "id": "96ba13cb",
   "metadata": {
    "tags": [
     "teacher"
    ]
   },
   "outputs": [],
   "source": [
    "background_residue = skimage.restoration.rolling_ball(image, radius=100)\n",
    "\n",
    "plt.figure(figsize=(8, 4))\n",
    "plt.imshow(background_residue, cmap=\"gray\")\n",
    "plt.title(\"Background (rolling ball)\")\n",
    "plt.axis(\"off\")\n",
    "plt.show()"
   ]
  },
  {
   "cell_type": "markdown",
   "id": "c708e78d",
   "metadata": {},
   "source": [
    "We can now subtract the background residue from the image and plot with `matplotlib` the raw image, the background image, and the background-corrected image:\n"
   ]
  },
  {
   "cell_type": "code",
   "execution_count": null,
   "id": "994b38b2",
   "metadata": {
    "tags": [
     "teacher"
    ]
   },
   "outputs": [],
   "source": [
    "image_rb_sub = image - background_residue\n",
    "\n",
    "plt.figure(figsize=(10, 10))\n",
    "\n",
    "plt.subplot(131)\n",
    "plt.imshow(image, cmap=\"gray\")\n",
    "plt.title(\"Original\")\n",
    "plt.axis(\"off\")\n",
    "\n",
    "plt.subplot(132)\n",
    "plt.imshow(background_residue, cmap=\"gray\")\n",
    "plt.title(\"Background (rolling ball)\")\n",
    "plt.axis(\"off\")\n",
    "\n",
    "plt.subplot(133)\n",
    "plt.imshow(image_rb_sub, cmap=\"gray\")\n",
    "plt.title(\"Background subtracted (rolling ball)\")\n",
    "plt.axis(\"off\")\n",
    "\n",
    "plt.tight_layout()\n",
    "plt.show()"
   ]
  },
  {
   "cell_type": "markdown",
   "id": "8278b45d",
   "metadata": {},
   "source": [
    "## Other Background Correction Techniques\n",
    "\n",
    "These are more advanced or specialized techniques you can explore:\n",
    "\n",
    "- **Morphological opening**: Removes small foreground objects to approximate the background.\n",
    "- **Gaussian/median filtering**: Smooths out the image to isolate large-scale variations.\n",
    "- **Polynomial surface fitting**: Useful when background varies gradually across the field.\n",
    "- **Tiled/local background subtraction**: Estimate and subtract background patch-by-patch.\n",
    "\n",
    "Your method choice should depend on image modality, signal-to-noise, and application.\n",
    "\n",
    "A good reference for background correction is the [scikit-image documentation](https://scikit-image.org/docs/0.25.x/api/skimage.restoration.html).\n"
   ]
  }
 ],
 "metadata": {
  "kernelspec": {
   "display_name": ".venv",
   "language": "python",
   "name": "python3"
  },
  "language_info": {
   "codemirror_mode": {
    "name": "ipython",
    "version": 3
   },
   "file_extension": ".py",
   "mimetype": "text/x-python",
   "name": "python",
   "nbconvert_exporter": "python",
   "pygments_lexer": "ipython3",
   "version": "3.13.0"
  }
 },
 "nbformat": 4,
 "nbformat_minor": 5
}
