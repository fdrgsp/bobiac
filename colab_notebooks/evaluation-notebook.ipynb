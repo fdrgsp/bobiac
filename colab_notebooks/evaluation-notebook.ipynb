{
 "cells": [
  {
   "cell_type": "markdown",
   "id": "16a60488",
   "metadata": {},
   "source": [
    "# Evaluation Notebook"
   ]
  },
  {
   "cell_type": "code",
   "execution_count": null,
   "id": "9f33553a",
   "metadata": {},
   "outputs": [],
   "source": [
    "%pip install matplotlib\n",
    "%pip install numpy\n",
    "%pip install scikit-image\n",
    "%pip install scipy\n",
    "%pip install tifffile\n",
    "%pip install imagecodecs\n",
    "%pip install seaborn\n",
    "%pip install evaluatesegmask @ git+https://github.com/antoineruzette/evaluatesegmask"
   ]
  },
  {
   "cell_type": "markdown",
   "id": "c9dce539",
   "metadata": {},
   "source": [
    "### Overview\n",
    "\n",
    "This notebook is used to evaluate the performance of the segmentation pipelines you have developed in group.\n",
    "The accepted format is a PNG image containing instance segmentation masks of the same size as the ground truth.\n",
    "\n",
    "**The closest to the ground truth wins!**"
   ]
  },
  {
   "cell_type": "markdown",
   "id": "91751101",
   "metadata": {},
   "source": [
    "## Submit your results to the leaderboard!"
   ]
  },
  {
   "cell_type": "markdown",
   "id": "82bb4d3f",
   "metadata": {},
   "source": [
    "Run the following cell to evaluate your segmentation mask:\n",
    "\n",
    "<p class=\"alert alert-info\">\n",
    "    <strong>Note:</strong> Make sure to replace the file path with your segmentation mask. Accepted format is a PNG or TIFFimage of the same size as the ground truth.\n",
    "</p>\n"
   ]
  },
  {
   "cell_type": "markdown",
   "id": "100ee0dc",
   "metadata": {},
   "source": [
    "The challenge consists of three tasks: \n",
    "- 001: segment the cell outlines\n",
    "- 002: segment the cell outlines\n",
    "- 003: segment the nuclei\n",
    "\n",
    "Make sure to indicate the name of your team and the mask you are testing against."
   ]
  },
  {
   "cell_type": "markdown",
   "id": "9c927491",
   "metadata": {},
   "source": [
    "### Evaluate task **001**"
   ]
  },
  {
   "cell_type": "code",
   "execution_count": null,
   "id": "22cfcded",
   "metadata": {
    "tags": []
   },
   "outputs": [],
   "source": [
    "# replace the file path with your segmentation mask\n",
    "import evaluatesegmask\n",
    "result =evaluatesegmask.evaluate(name=\"my_team_name\", pred_path=\"001/test\", ground_truth=\"001\")"
   ]
  },
  {
   "cell_type": "markdown",
   "id": "d51ad4c0",
   "metadata": {},
   "source": [
    "### Evaluate task **002**"
   ]
  },
  {
   "cell_type": "code",
   "execution_count": null,
   "id": "403fcdc3",
   "metadata": {},
   "outputs": [],
   "source": [
    "# replace the file path with your segmentation mask\n",
    "import evaluatesegmask\n",
    "result =evaluatesegmask.evaluate(name=\"my_team_name\", pred_path=\"002/002_masks.png\", ground_truth=\"002/gt_mask.png\")"
   ]
  },
  {
   "cell_type": "markdown",
   "id": "a5b6442a",
   "metadata": {},
   "source": [
    "### Evaluate task **003**"
   ]
  },
  {
   "cell_type": "code",
   "execution_count": null,
   "id": "42788622",
   "metadata": {},
   "outputs": [],
   "source": [
    "# replace the file path with your segmentation mask\n",
    "import evaluatesegmask\n",
    "result =evaluatesegmask.evaluate(name=\"my_team_name\", pred_path=\"003/003_masks.png\", ground_truth=\"003\")"
   ]
  },
  {
   "cell_type": "markdown",
   "id": "a57298a7",
   "metadata": {},
   "source": [
    "### Run evaluation without submitting to leaderboard"
   ]
  },
  {
   "cell_type": "code",
   "execution_count": null,
   "id": "3f7c6701",
   "metadata": {},
   "outputs": [],
   "source": [
    "# replace the file path with your segmentation mask\n",
    "import evaluatesegmask\n",
    "result = evaluatesegmask.evaluate_instance_segmentation(pred_path=\"001\", ground_truth=\"001\")"
   ]
  }
 ],
 "metadata": {
  "kernelspec": {
   "display_name": "Python 3 (ipykernel)",
   "language": "python",
   "name": "python3"
  },
  "language_info": {
   "codemirror_mode": {
    "name": "ipython",
    "version": 3
   },
   "file_extension": ".py",
   "mimetype": "text/x-python",
   "name": "python",
   "nbconvert_exporter": "python",
   "pygments_lexer": "ipython3",
   "version": "3.13.3"
  }
 },
 "nbformat": 4,
 "nbformat_minor": 5
}
