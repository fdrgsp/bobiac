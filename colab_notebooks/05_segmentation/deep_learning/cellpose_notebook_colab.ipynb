{
 "cells": [
  {
   "cell_type": "markdown",
   "metadata": {
    "id": "Nb90LCrotIx4"
   },
   "source": [
    "## Overview\n",
    "\n",
    "[Website](https://www.cellpose.org) | [GitHub](https://github.com/mouseland/cellpose) | [Paper](https://www.biorxiv.org/content/10.1101/2025.04.28.651001v1)\n",
    "\n",
    "In this section, we’ll learn how to use **Cellpose**, a powerful deep learning tool for cell segmentation. Cellpose works on a wide variety of microscopy images—including both nuclei and full cells—and doesn’t require retraining for many common use cases.\n",
    "\n",
    "We’ll start by running Cellpose on a single image and then move to batch processing and visualization. Later, we’ll explore how to customize parameters and interpret Cellpose outputs like masks and flow fields.\n",
    "\n",
    "> 💡 Tip: If you're not using a GPU (or are on a Mac with Apple Silicon), we recommend running this notebook on **Google Colab** for faster performance."
   ]
  },
  {
   "cell_type": "markdown",
   "metadata": {
    "id": "Z0s2fz5hUk75"
   },
   "source": [
    "## Make sure you have GPU access\n",
    "\n",
    "To Enable GPU:\n",
    "\n",
    "1. navigate to `Runtime -> Change Runtime Type`\n",
    "2. select `Python 3` as `Runtime Type`\n",
    "3. select one available GPU (e.g. `T4 GPU`) as `Hardware accelerator`.\n",
    "\n",
    "<br>\n",
    "\n",
    "<div align=\"left\"> <img src=\"https://raw.githubusercontent.com/HMS-IAC/bobiac/main/_static/images/cellpose/colab_runtime.png\" alt=\"Ilastik Logo\" width=\"400\"></div>\n"
   ]
  },
  {
   "cell_type": "markdown",
   "metadata": {
    "id": "VZe3EmLeDr5h"
   },
   "source": [
    "## Mount your google drive\n",
    "\n",
    "To access the data for the course you first need to mount your Google Drive.\n",
    "\n",
    "Run the cell below to connect your Google Drive to colab and follow the instructions to authenticate your Google account.\n",
    "\n",
    "You will need to allow access to your Google Drive so that the notebook can read and write files."
   ]
  },
  {
   "cell_type": "code",
   "execution_count": null,
   "metadata": {
    "id": "b8wPXz7PGNLt"
   },
   "outputs": [],
   "source": [
    "from google.colab import drive\n",
    "\n",
    "drive.mount(\"/content/drive\")"
   ]
  },
  {
   "cell_type": "markdown",
   "metadata": {
    "id": "l9YpMcAuDr5i"
   },
   "source": [
    "\n",
    "Then click on `folder icon` on the left bar, press the `refresh button`. Your Google Drive folder should now be available here (e.g. MyDrive).\n",
    "\n",
    "<div align=\"left\"> <img src=\"https://raw.githubusercontent.com/HMS-IAC/bobiac/main/_static/images/cellpose/colab_folder.png\" alt=\"Ilastik Logo\" width=\"300\"></div>"
   ]
  },
  {
   "cell_type": "markdown",
   "metadata": {},
   "source": [
    "## Download the Data\n",
    "\n",
    "Run the cell below to download the data for this exercise and save it in you Google Drive. A new folder called `bobiac_data_cellpose` will be created in your Google Drive."
   ]
  },
  {
   "cell_type": "code",
   "execution_count": null,
   "metadata": {},
   "outputs": [],
   "source": [
    "# Create directory\n",
    "!mkdir -p /content/bobiac_data_cellpose\n",
    "# Download the data\n",
    "!wget https://raw.githubusercontent.com/HMS-IAC/bobiac/main/_static/data/05_segmentation_cellpose.zip -O /content/bobiac_data_cellpose/05_segmentation_cellpose.zip\n",
    "# Unzip the data, remove zip file and macOS metadata files (if any)\n",
    "!cd /content/bobiac_data_cellpose && unzip 05_segmentation_cellpose.zip && rm -f 05_segmentation_cellpose.zip && rm -rf __MACOSX"
   ]
  },
  {
   "cell_type": "markdown",
   "metadata": {
    "id": "h_iAN7cAthma"
   },
   "source": [
    "## Install Cellpose\n"
   ]
  },
  {
   "cell_type": "code",
   "execution_count": null,
   "metadata": {
    "cellView": "form",
    "id": "hG3LSmJmLylT"
   },
   "outputs": [],
   "source": [
    "# !pip install cellpose\n"
   ]
  },
  {
   "cell_type": "markdown",
   "metadata": {},
   "source": [
    "## Import Libraries"
   ]
  },
  {
   "cell_type": "code",
   "execution_count": null,
   "metadata": {
    "tags": []
   },
   "outputs": [],
   "source": []
  },
  {
   "cell_type": "markdown",
   "metadata": {},
   "source": [
    "## Setup"
   ]
  },
  {
   "cell_type": "code",
   "execution_count": null,
   "metadata": {},
   "outputs": [],
   "source": [
    "io.logger_setup()  # run this to get printing of progress\n",
    "\n",
    "use_gpu = core.use_gpu()\n",
    "if use_gpu:\n",
    "    print(\"Using GPU for Cellpose\")\n",
    "else:\n",
    "    raise ImportError(\"No GPU access, change your runtime as explained above.\")"
   ]
  },
  {
   "cell_type": "markdown",
   "metadata": {},
   "source": [
    "## Run Cellpose on A Sample Image\n",
    "\n",
    "In this section, we’ll apply Cellpose to a single image and visualize the segmentation result.\n",
    "\n",
    "You’ll see how easy it is to segment cells using just a few lines of code. We’ll use the `model.eval()` function to make predictions, and then display:\n",
    "- The original image\n",
    "- The predicted segmentation mask\n",
    "- The outlines of detected cells\n",
    "\n",
    "We’ll also look at the `flows` output, which helps Cellpose group pixels into individual objects.\n",
    "\n",
    "No model training required—just load, run, and view the results."
   ]
  },
  {
   "cell_type": "markdown",
   "metadata": {},
   "source": [
    "### Load the Image\n",
    "\n",
    "All the data for this exercise is stored in the `bobiac_data_cellpose` folder on your Google Drive created in the previous steps. You can get the path to the files inside this folder by clicking on the `folder icon` on the left bar, then right-clicking on the file and selecting `Copy path`."
   ]
  },
  {
   "cell_type": "code",
   "execution_count": null,
   "metadata": {
    "tags": []
   },
   "outputs": [],
   "source": []
  },
  {
   "cell_type": "markdown",
   "metadata": {},
   "source": [
    "### Initialize the Model\n",
    "\n",
    "To initialize Cellpose model we can use the [`models.CellposeModel()`](https://cellpose.readthedocs.io/en/latest/api.html#cellposemodel) class.\n",
    "\n",
    "Among the parameters we can set if we want to use `gpu` (if available) as well which **model** to use. The current default is Cellpose-SAM as `cpsam` (another example is `cyto3`, the previous U-Net-based model).\n",
    "\n",
    "If it is the first time you run this notebook, the model will be downloaded automatically. This may take a while."
   ]
  },
  {
   "cell_type": "code",
   "execution_count": null,
   "metadata": {
    "tags": []
   },
   "outputs": [],
   "source": []
  },
  {
   "cell_type": "markdown",
   "metadata": {},
   "source": [
    "### Run Cellpose\n",
    "\n",
    "After initializing the model, we can run it on the image using the [`model.eval()`](https://cellpose.readthedocs.io/en/latest/api.html#id0) method.\n",
    "\n",
    "Here are some of the parameters you can change:\n",
    "\n",
    "* ***flow_threshold*** is  the  maximum  allowed  error  of  the  flows  for  each  mask.   The  default  is 0.4.\n",
    "    *  **Increase** this threshold if cellpose is not returning as many masks as you’d expect (or turn off completely with 0.0)\n",
    "    *   **Decrease** this threshold if cellpose is returning too many ill-shaped masks.\n",
    "\n",
    "* ***cellprob_threshold*** determines proability that a detected object is a cell.   The  default  is 0.0.\n",
    "    *   **Decrease** this threshold if cellpose is not returning as many masks as you’d expect or if masks are too small\n",
    "    *   **Increase** this threshold if cellpose is returning too many masks esp from dull/dim areas.\n",
    "\n",
    "* ***tile_norm_blocksize*** determines the size of blocks used for normalizing the image. The default is 0, which means the entire image is normalized together.\n",
    "  You may want to change this to 100-200 pixels if you have very inhomogeneous brightness across your image.\n"
   ]
  },
  {
   "cell_type": "code",
   "execution_count": null,
   "metadata": {
    "tags": []
   },
   "outputs": [],
   "source": []
  },
  {
   "cell_type": "markdown",
   "metadata": {},
   "source": [
    "### Display the Results"
   ]
  },
  {
   "cell_type": "code",
   "execution_count": null,
   "metadata": {
    "tags": []
   },
   "outputs": [],
   "source": []
  },
  {
   "cell_type": "markdown",
   "metadata": {},
   "source": [
    "## Run Cellpose on a Folder of Images\n",
    "\n",
    "Now that we’ve seen how to run Cellpose on a single image, let’s scale up and apply it to a **folder of images**. This is useful when you have an entire experiment or dataset that you want to segment automatically.\n",
    "\n",
    "Cellpose provides a convenient built-in function for this: `model.eval()` can be used with a folder path, and it will process all compatible image files in that folder.\n",
    "\n",
    "We’ll walk through how to:\n",
    "- Point Cellpose to your image directory\n",
    "- Choose the segmentation type (e.g., \"nuclei\" or \"cyto\")\n",
    "- Set output options like saving masks and outlines\n",
    "- Visualize a few results to make sure everything worked\n",
    "\n",
    "> 💡 Tip: Make sure your images are in `.tif`, `.png`, or `.jpg` format.\n",
    "\n",
    "Let’s get started with folder-based segmentation!\n"
   ]
  },
  {
   "cell_type": "code",
   "execution_count": null,
   "metadata": {
    "tags": []
   },
   "outputs": [],
   "source": []
  }
 ],
 "metadata": {
  "accelerator": "GPU",
  "colab": {
   "include_colab_link": true,
   "provenance": []
  },
  "kernelspec": {
   "display_name": ".venv",
   "language": "python",
   "name": "python3"
  },
  "language_info": {
   "codemirror_mode": {
    "name": "ipython",
    "version": 3
   },
   "file_extension": ".py",
   "mimetype": "text/x-python",
   "name": "python",
   "nbconvert_exporter": "python",
   "pygments_lexer": "ipython3",
   "version": "3.13.0"
  }
 },
 "nbformat": 4,
 "nbformat_minor": 0
}
