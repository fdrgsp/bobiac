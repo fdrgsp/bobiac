{
 "cells": [
  {
   "cell_type": "markdown",
   "id": "4e296f4b",
   "metadata": {},
   "source": [
    "# Pearson's correlation coefficient"
   ]
  },
  {
   "cell_type": "code",
   "execution_count": null,
   "id": "d447e0a7",
   "metadata": {},
   "outputs": [],
   "source": [
    "# /// script\n",
    "# requires-python = \">=3.12\"\n",
    "# dependencies = [\n",
    "#     \"matplotlib\",\n",
    "#     \"ndv[jupyter,vispy]\",\n",
    "#     \"numpy\",\n",
    "#     \"scikit-image\",\n",
    "#     \"scipy\",\n",
    "#     \"tifffile\",\n",
    "#     \"imagecodecs\",\n",
    "#     \"coloc_tools @ git+https://github.com/fdrgsp/coloc-tools.git\"\n",
    "# ]\n",
    "# ///"
   ]
  },
  {
   "cell_type": "markdown",
   "id": "aadc72aa",
   "metadata": {},
   "source": [
    "## <mark style=\"color: black; background-color: rgb(127,196,125); padding: 3px; border-radius: 5px;\">Description</mark>\n",
    "\n",
    "In this section, we will explore how to implement in Python the **Pearson's Correlation Coefficient**, which is a common method for quantifying colocalization based on pixel intensities.\n",
    "\n",
    "The images we will use for this section can be downloaded from the <a href=\"../../_static/data/08_pixel_intensity_based_coloc.zip\" download> <i class=\"fas fa-download\"></i> Mander's & Pearson's Colocalization Dataset</a>.\n",
    "\n",
    "<p class=\"alert alert-warning\">\n",
    "    <strong>Note:</strong> This notebook aims to show how to practically implement these methods but does not aim to describe when to use which method. For this exercise, we will use a single 2-channel image and without any preprocessing steps.\n",
    "</p>\n",
    "\n",
    "<p class=\"alert alert-info\">\n",
    "    <strong>Note:</strong> In this example, we will not perform any image processing steps before computing the Pearson's Correlation Coefficient. However, when conducting a real colocalization analysis you should consider applying some image processing steps to clean the images before computing the Pearson's Correlation Coefficient, such as background subtraction, flat-field correction, etc.\n",
    "</p>\n",
    "\n",
    "<p class=\"alert alert-info\">\n",
    "    <strong>Note:</strong> In this notebook we will only use a single image pair for demonstration purposes. Often, Pearson's coefficients should not be interpreted as absolute values in isolation. Instead, it's always recommended to consider them in the context of comparisons between different conditions, controls, treatments, or experimental groups. The relative changes and ratios between conditions are often more meaningful than the absolute coefficient values themselves.\n",
    "</p>"
   ]
  },
  {
   "cell_type": "markdown",
   "id": "fd1dd28d",
   "metadata": {},
   "source": [
    "## <mark style=\"color: black; background-color: rgb(127,196,125); padding: 3px; border-radius: 5px;\">Pearson's Correlation Coefficients</mark>\n",
    "\n",
    "The Pearson's correlation coefficient measures the **linear relationship** between pixel intensities in two fluorescence channels. \n",
    "\n",
    "<div align=\"center\"> <img src=\"https://raw.githubusercontent.com/HMS-IAC/bobiac/main/_static/images/coloc/pearsons_slide.png\" alt=\"pearsons\" width=\"800\"></div>\n",
    "\n",
    "<br>\n",
    "\n",
    "It quantifies how well the intensity variations in one channel predict the intensity variations in another channel across all pixels in the image. \n",
    "\n",
    "The coefficient ranges from **-1 to +1**, where:\n",
    "- **+1** indicates perfect positive correlation (when one channel's intensity increases, the other increases proportionally)\n",
    "- **0** indicates no linear correlation\n",
    "- **-1** indicates perfect negative correlation (when one channel's intensity increases, the other decreases proportionally)\n",
    "\n",
    "<div align=\"center\"> <img src=\"https://raw.githubusercontent.com/HMS-IAC/bobiac/main/_static/images/coloc/pearsons_graphs.png\" alt=\"pearsons_graphs\" width=\"770\"></div>\n",
    "\n",
    "<br>\n",
    "\n",
    "Pearson's correlation considers the **entire intensity range** and evaluates how intensities **co-vary** across the image. This makes it particularly useful for detecting cases where two proteins show coordinated expression levels, even if they don't necessarily occupy the exact same pixels."
   ]
  },
  {
   "cell_type": "markdown",
   "id": "4e752693",
   "metadata": {
    "tags": [
     "teacher"
    ]
   },
   "source": [
    "### <mark style=\"color: black; background-color: rgb(190,223,185); padding: 3px; border-radius: 5px;\">import libraries</mark>"
   ]
  },
  {
   "cell_type": "code",
   "execution_count": null,
   "id": "e46a6977",
   "metadata": {
    "tags": [
     "teacher"
    ]
   },
   "outputs": [],
   "source": [
    "import matplotlib.pyplot as plt\n",
    "import ndv\n",
    "import numpy as np\n",
    "import tifffile\n",
    "from coloc_tools import costes_pixel_randomization\n",
    "from scipy.stats import pearsonr"
   ]
  },
  {
   "cell_type": "markdown",
   "id": "2ef6900a",
   "metadata": {},
   "source": [
    "### <mark style=\"color: black; background-color: rgb(190,223,185); padding: 3px; border-radius: 5px;\">Load and Visualize the Image</mark>\n",
    "\n",
    "Open and visualize (with ndv) the image named `cells_pearsons.tif` from the <a href=\"../../_static/data/08_pixel_intensity_based_coloc.zip\" download><i class=\"fas fa-download\"></i> Mander's & Pearson's Colocalization Dataset</a>. This is a two-channel image of HEK293 cells where two distinct fluorescent proteins have been labeled with different fluorescent markers."
   ]
  },
  {
   "cell_type": "code",
   "execution_count": null,
   "id": "58157086",
   "metadata": {
    "tags": [
     "teacher"
    ]
   },
   "outputs": [],
   "source": [
    "# open the image\n",
    "img_path = \"../../_static/images/coloc/t_cell.tif\"\n",
    "img = tifffile.imread(img_path)"
   ]
  },
  {
   "cell_type": "code",
   "execution_count": null,
   "id": "89ca3d02",
   "metadata": {
    "tags": [
     "teacher"
    ]
   },
   "outputs": [],
   "source": [
    "# visualize the image\n",
    "ndv.imshow(img)"
   ]
  },
  {
   "cell_type": "markdown",
   "id": "98764c14",
   "metadata": {},
   "source": [
    "To compute Pearson's Correlation Coefficients, we need **two separate images** (channels).\n",
    "\n",
    "What is the image shape? How do we split the channels?"
   ]
  },
  {
   "cell_type": "code",
   "execution_count": null,
   "id": "86327fbe",
   "metadata": {
    "tags": [
     "teacher"
    ]
   },
   "outputs": [],
   "source": [
    "# get image shape\n",
    "print(\"Image shape:\", img.shape)"
   ]
  },
  {
   "cell_type": "code",
   "execution_count": null,
   "id": "5d9bf352",
   "metadata": {
    "tags": [
     "teacher"
    ]
   },
   "outputs": [],
   "source": [
    "# split the image into channels\n",
    "ch1 = img[0]\n",
    "ch2 = img[1]"
   ]
  },
  {
   "cell_type": "markdown",
   "id": "930d978e",
   "metadata": {},
   "source": [
    "### <mark style=\"color: black; background-color: rgb(190,223,185); padding: 3px; border-radius: 5px;\">Scatter Plot</mark>\n",
    "\n",
    "It is often useful to visualize the relationship between the two channels using a scatter plot. This can help us understand the distribution of pixel intensities."
   ]
  },
  {
   "cell_type": "code",
   "execution_count": null,
   "id": "8ceee2fe",
   "metadata": {
    "tags": [
     "teacher"
    ]
   },
   "outputs": [],
   "source": [
    "# plot scatter plot\n",
    "plt.figure(figsize=(6, 6))\n",
    "plt.scatter(ch1.ravel(), ch2.ravel(), s=3, alpha=0.5)\n",
    "plt.xlabel(\"Channel 1 Intensity\")\n",
    "plt.ylabel(\"Channel 2 Intensity\")\n",
    "plt.title(\"Scatter Plot of Pixel Intensities\")\n",
    "# set both axes to the same range based on the maximum value\n",
    "max_intensity = max(ch1.max(), ch2.max()) + 100\n",
    "plt.xlim(0, max_intensity)\n",
    "plt.ylim(0, max_intensity)\n",
    "plt.show()"
   ]
  },
  {
   "cell_type": "markdown",
   "id": "3158e8b6",
   "metadata": {},
   "source": [
    "### <mark style=\"color: black; background-color: rgb(190,223,185); padding: 3px; border-radius: 5px;\">Calculate Pearson's Correlation Coefficients</mark>"
   ]
  },
  {
   "cell_type": "code",
   "execution_count": null,
   "id": "8bfc6a09",
   "metadata": {
    "tags": [
     "teacher"
    ]
   },
   "outputs": [],
   "source": [
    "mean_ch1 = np.mean(ch1)\n",
    "mean_ch2 = np.mean(ch2)\n",
    "\n",
    "numerator = np.sum((ch1 - mean_ch1) * (ch2 - mean_ch2))\n",
    "denominator = np.sqrt(np.sum((ch1 - mean_ch1) ** 2) * np.sum((ch2 - mean_ch2) ** 2))\n",
    "prs = numerator / denominator\n",
    "print(f\"Pearson's: {prs:.2}\")"
   ]
  },
  {
   "cell_type": "markdown",
   "id": "1f562035",
   "metadata": {},
   "source": [
    "There are several libraries in Python that alreqady implement the Pearson's Correlation Coefficient. Two examples are `scipy.stats.pearsonr` and `numpy.corrcoef`."
   ]
  },
  {
   "cell_type": "code",
   "execution_count": null,
   "id": "7e24d8a1",
   "metadata": {},
   "outputs": [],
   "source": [
    "# Calculate Pearson's correlation coefficient using scipy\n",
    "pearson, p_value = pearsonr(ch1.ravel(), ch2.ravel())\n",
    "print(f\"Pearson's (scipy): {pearson:.2f}, p-value: {p_value:.4f}\")\n",
    "# Calculate Pearson's correlation coefficient using numpy\n",
    "pearson_numpy = np.corrcoef(ch1.ravel(), ch2.ravel())[0, 1]\n",
    "print(f\"Pearson's (numpy): {pearson_numpy:.2f}\")"
   ]
  },
  {
   "cell_type": "markdown",
   "id": "7c2a901f",
   "metadata": {},
   "source": [
    "### <mark style=\"color: black; background-color: rgb(190,223,185); padding: 3px; border-radius: 5px;\">Costes Pixel Randomization Test</mark>\n",
    "\n",
    "The **Costes pixel randomization test** is a statistical method used to validate the significance of colocalization results, particularly for Pearson's correlation coefficients. This method involves **randomly shuffling the pixel intensities of one channel and recalculating the Pearson's correlation coefficient** to create a distribution of values under the null hypothesis of no colocalization.\n",
    "\n",
    "The [costes_pixel_randomization](https://github.com/fdrgsp/coloc-tools/blob/fee98bb72ccdbffabdc0d4875a9d4fccd43cc8ab/src/coloc_tools/_costes_pixel_randomization.py#L7) function from `coloc-tools` provides an implementation of this method in Python. This function returns the observed Pearson's correlation coefficient, a list of randomized correlation coefficients, and the p-value indicating the significance of the observed correlation.\n",
    "\n",
    "A low `p-value` (e.g. 0.0001) means that none of the `n` random translations (by default 500) produced a correlation coefficient as high as the observed one, indicating that the observed colocalization is statistically significant: the probability of getting the observed colocalization by random chance is < 0.0001 (less than 0.01%).\n",
    "\n",
    "Let's run it on the two channels we have been working with."
   ]
  },
  {
   "cell_type": "markdown",
   "id": "eb0164f8",
   "metadata": {},
   "source": [
    "We can now run the Costes pixel randomization test and print the pearson's correlation coefficient, the p-value and the first 5 randomized correlation coefficients."
   ]
  },
  {
   "cell_type": "code",
   "execution_count": null,
   "id": "e04c33ac",
   "metadata": {
    "tags": [
     "teacher"
    ]
   },
   "outputs": [],
   "source": [
    "pearson, random_corrs, p_value = costes_pixel_randomization(ch1, ch2, n_iterations=100)\n",
    "print(f\"Observed Pearson's correlation: {pearson:.2f}, p-value: {p_value:.4f}\\n\")\n",
    "# first 5 random correlations\n",
    "print(random_corrs[:5])"
   ]
  },
  {
   "cell_type": "markdown",
   "id": "e6c36542",
   "metadata": {},
   "source": [
    "**Bonus:** We can also visualize the distribution of the randomized Pearson's correlation coefficients to better understand the significance of our observed correlation."
   ]
  },
  {
   "cell_type": "code",
   "execution_count": null,
   "id": "ddf7922c",
   "metadata": {
    "tags": [
     "teacher"
    ]
   },
   "outputs": [],
   "source": [
    "# plot histogram of random correlations\n",
    "plt.figure(figsize=(8, 5))\n",
    "plt.hist(random_corrs, bins=30, alpha=0.8)\n",
    "plt.axvline(\n",
    "    pearson, color=\"k\", linestyle=\"dashed\", linewidth=1.5, label=\"Observed Correlation\"\n",
    ")\n",
    "plt.title(\"Histogram of Randomized Pearson's Correlations\")\n",
    "plt.xlabel(\"Pearson's Correlation Coefficient\")\n",
    "plt.ylabel(\"Frequency\")\n",
    "plt.legend()\n",
    "plt.grid()\n",
    "plt.show()"
   ]
  },
  {
   "cell_type": "markdown",
   "id": "3a50b76f",
   "metadata": {},
   "source": [
    "### <mark style=\"color: black; background-color: rgb(190,223,185); padding: 3px; border-radius: 5px;\">Summary</mark>\n",
    "\n",
    "The Python implementation for calculating Pearson's Correlation Coefficient is straightforward and concise, as demonstrated in the code below.\n",
    "\n",
    "```python\n",
    "mean_ch1 = np.mean(ch1)\n",
    "mean_ch2 = np.mean(ch2)\n",
    "numerator = np.sum((ch1 - mean_ch1) * (ch2 - mean_ch2))\n",
    "denominator = np.sqrt(np.sum((ch1 - mean_ch1) ** 2) * np.sum((ch2 - mean_ch2) ** 2))\n",
    "pearson_coefficient = numerator / denominator\n",
    "```\n",
    "\n",
    "And it is even easier using already available libraries like `scipy` or `numpy`:\n",
    "\n",
    "```python\n",
    "from scipy.stats import pearsonr\n",
    "pearson_coefficient, p_value = pearsonr(ch1.ravel(), ch2.ravel())\n",
    "```\n",
    "```python\n",
    "import numpy as np\n",
    "pearson_coefficient = np.corrcoef(ch1.ravel(), ch2.ravel())[0, 1]\n",
    "```\n",
    "\n",
    "**Important Note on Spatial Information:**\n",
    "\n",
    "It's crucial to understand that **Pearson's correlation works on vectors/pairs of values and does not use spatial information at all**. The correlation is calculated based purely on the intensity values and their relationships, regardless of where those pixels are located in the image. This means that if you randomly shuffle the pixel positions in both channels in exactly the same way, you would get identical Pearson's correlation results. This characteristic makes Pearson's correlation fundamentally different from spatial colocalization measures and emphasizes that it's measuring intensity co-variation rather than spatial co-occurrence.\n",
    "\n",
    "**Key Considerations for Pearson's Correlation Analysis:**\n",
    "\n",
    "1. **Region of Interest (ROI) Analysis**: Instead of running Pearson's correlation on the entire image, it is often beneficial to perform **segmentation of the structures you care about** first. Ideally, use a **third independent channel** (such as a nuclear stain or cell membrane marker) to define regions of interest. This approach:\n",
    "   - Reduces background noise interference\n",
    "   - Focuses analysis on biologically relevant areas\n",
    "   - Improves the biological interpretation of results\n",
    "   - Eliminates correlation artifacts from empty regions\n",
    "\n",
    "2. **Background Considerations**: Pearson's correlation can be heavily influenced by background pixels. Consider applying background subtraction or flat-field correction before analysis, or use segmentation masks to exclude background regions.\n",
    "\n",
    "3. **Statistical Validation**: Always validate your results using statistical tests such as the Costes pixel randomization test demonstrated above. This helps assess whether observed correlations are statistically significant or could have occurred by chance. Rotating 90 or 180 degrees one channel and computing Pearson's correlation can also help validate the significance of the observed correlation.\n",
    "\n",
    "   - **Costes Test**: This test generates a distribution of Pearson's coefficients from randomized pixel intensities, allowing you to calculate a p-value for your observed correlation. A low p-value indicates that the observed correlation is unlikely to have occurred by chance.\n",
    "\n",
    "4. **Comparative Analysis**: Pearson's correlation values should not be interpreted as absolute measures in isolation. Instead, consider them in the context of:\n",
    "   - Comparisons between different experimental conditions\n",
    "   - Control vs. treatment groups\n",
    "   - Different time points or developmental stages\n",
    "   - Relative changes between conditions are often more meaningful than absolute values\n",
    "\n",
    "5. **Limitations**: Remember that Pearson's correlation measures **linear relationships** between pixel intensities. It may not capture more complex colocalization patterns and can be sensitive to outliers and intensity variations.\n",
    "\n",
    "By combining proper image preprocessing, ROI-based analysis, and statistical validation, Pearson's correlation coefficient becomes a powerful tool for quantitative colocalization analysis in fluorescence microscopy."
   ]
  }
 ],
 "metadata": {
  "kernelspec": {
   "display_name": ".venv",
   "language": "python",
   "name": "python3"
  },
  "language_info": {
   "codemirror_mode": {
    "name": "ipython",
    "version": 3
   },
   "file_extension": ".py",
   "mimetype": "text/x-python",
   "name": "python",
   "nbconvert_exporter": "python",
   "pygments_lexer": "ipython3",
   "version": "3.13.0"
  }
 },
 "nbformat": 4,
 "nbformat_minor": 5
}
