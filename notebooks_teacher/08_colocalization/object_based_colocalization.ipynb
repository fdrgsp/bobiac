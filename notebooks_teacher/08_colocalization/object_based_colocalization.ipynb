{
 "cells": [
  {
   "cell_type": "markdown",
   "id": "516e4dd6",
   "metadata": {
    "vscode": {
     "languageId": "plaintext"
    }
   },
   "source": [
    "# Object-based colocalization analysis"
   ]
  },
  {
   "cell_type": "code",
   "execution_count": null,
   "id": "dc90f5a8",
   "metadata": {},
   "outputs": [],
   "source": [
    "# /// script\n",
    "# requires-python = \">=3.12\"\n",
    "# dependencies = [\n",
    "#     \"locan\",\n",
    "#     \"matplotlib\",\n",
    "#     \"ndv[jupyter,vispy]\",\n",
    "#     \"numpy\",\n",
    "#     \"scikit-image\",\n",
    "#     \"scipy\",\n",
    "#     \"shapely\",\n",
    "#     \"tifffile\",\n",
    "# ]\n",
    "# ///"
   ]
  },
  {
   "cell_type": "markdown",
   "id": "4a85543e",
   "metadata": {},
   "source": [
    "# Description\n",
    "In this Notebook, we learn about point-based colocalization analysis \n",
    "\n",
    "## <mark style=\"color: black; background-color: rgb(127,196,125); padding: 3px; border-radius: 5px;\">Objectives</mark>\n",
    "Learn about mean nearest neighbor, the nearest neighbor function, and Ripley's K function.  \n",
    "Learn Monte Carlo based validation. \n",
    "\n",
    "## <mark style=\"color: black; background-color: rgb(127,196,125); padding: 3px; border-radius: 5px;\">Table of Contents</mark>\n",
    "0. Load the data\n",
    "1. Plot the data\n",
    "2. Mean nearest neighbor distance\n",
    "3. Nearest neighbor function\n",
    "4. Ripley's K - with and without boundary correction\n",
    "6. Validation - the null distribution\n",
    "7. Validation - Monte Carlo based null hypothesis testing\n",
    "\n",
    "In this exercise, we will use the <a href=\"../../_static/data/08_object_based_colocalization.zip\" download> <i class=\"fas fa-download\"></i> Object Based Colocalization Dataset</a> ."
   ]
  },
  {
   "cell_type": "code",
   "execution_count": null,
   "id": "b867c095",
   "metadata": {},
   "outputs": [],
   "source": [
    "from pathlib import Path\n",
    "\n",
    "import matplotlib.pyplot as plt\n",
    "import numpy as np\n",
    "from rich import print\n",
    "from scipy.spatial import distance_matrix\n",
    "from shapely.geometry import Point, box"
   ]
  },
  {
   "cell_type": "markdown",
   "id": "bacbcbd8-85ae-4114-9f48-4ca7fcc755fe",
   "metadata": {},
   "source": [
    "## <mark style=\"color: black; background-color: rgb(127,196,125); padding: 3px; border-radius: 5px;\">0. Load the data</mark>"
   ]
  },
  {
   "cell_type": "code",
   "execution_count": null,
   "id": "98e3b060",
   "metadata": {},
   "outputs": [],
   "source": [
    "base = Path(\"../../_static/images/coloc/obj_based/\")\n",
    "\n",
    "fall_med_iac = np.loadtxt(base / \"p_400_c1.csv\", delimiter=\",\")\n",
    "fall_med_bob = np.loadtxt(base / \"p_400_c2.csv\", delimiter=\",\")\n",
    "fall_cold_iac = np.loadtxt(base / \"g_p_400_dual_1.csv\", delimiter=\",\")\n",
    "fall_cold_bob = np.loadtxt(base / \"g_p_400_dual_2.csv\", delimiter=\",\")\n",
    "fall_warm_iac = np.loadtxt(base / \"p_400_c1_rep.csv\", delimiter=\",\")\n",
    "fall_warm_bob = np.loadtxt(base / \"p_400_c2_rep.csv\", delimiter=\",\")\n",
    "winter_warm_iac = np.loadtxt(base / \"g_p_400_c1.csv\", delimiter=\",\")\n",
    "winter_warm_bob = np.loadtxt(base / \"g_p_400_c2.csv\", delimiter=\",\")\n",
    "winter_medium_iac = np.loadtxt(base / \"g_p_as_c1.csv\", delimiter=\",\")\n",
    "winter_medium_bob = np.loadtxt(base / \"g_p_as_c2.csv\", delimiter=\",\")\n",
    "winter_cold_iac = np.loadtxt(base / \"g_p_400_c1_cor.csv\", delimiter=\",\")\n",
    "winter_cold_bob = np.loadtxt(base / \"g_p_400_c2_cor.csv\", delimiter=\",\")"
   ]
  },
  {
   "cell_type": "markdown",
   "id": "5dd5820b-ce59-4bdc-aded-3e4b5e8cd3dc",
   "metadata": {},
   "source": [
    "## <mark style=\"color: black; background-color: rgb(127,196,125); padding: 3px; border-radius: 5px;\">1. Plot the data</mark>"
   ]
  },
  {
   "cell_type": "code",
   "execution_count": null,
   "id": "bdea0840-5b06-46c4-9f06-be8fb4025c02",
   "metadata": {},
   "outputs": [],
   "source": [
    "def plotloc_2c(\n",
    "    points_iac: np.ndarray,\n",
    "    points_bob: np.ndarray,\n",
    "    title: str,\n",
    "    s: float = 15,\n",
    "    ch1: str = \"IAC\",\n",
    "    ch2: str = \"BOB\",\n",
    ") -> None:\n",
    "    \"\"\"\n",
    "    Plot two channels in a 2D space.\n",
    "    Parameters:\n",
    "    points_iac (np.ndarray): Points for channel 1.\n",
    "    points_bob (np.ndarray): Points for channel 2.\n",
    "    \"\"\"\n",
    "    plt.scatter(points_iac[:, 0], points_iac[:, 1], c=\"blue\", label=ch1, s=s, alpha=1)\n",
    "    plt.scatter(\n",
    "        points_bob[:, 0],\n",
    "        points_bob[:, 1],\n",
    "        c=\"magenta\",\n",
    "        label=ch2,\n",
    "        s=s,\n",
    "        alpha=0.75,\n",
    "        marker=\"s\",\n",
    "    )\n",
    "    plt.title(label=title)\n",
    "    plt.legend()\n",
    "\n",
    "    plt.xlabel(\"x [au]\")\n",
    "    plt.ylabel(\"y [au]\")\n",
    "    ax = plt.gca()\n",
    "    ax.set_aspect(\"equal\", adjustable=\"box\")"
   ]
  },
  {
   "cell_type": "code",
   "execution_count": null,
   "id": "dcc83158-d25d-460b-9a26-ee7bf204f23b",
   "metadata": {},
   "outputs": [],
   "source": [
    "print(fall_med_iac.shape, fall_med_bob.shape)\n",
    "plotloc_2c(fall_med_iac, fall_med_bob, title=\"Fall, medium\")"
   ]
  },
  {
   "cell_type": "code",
   "execution_count": null,
   "id": "f2d0ef43-7f77-452b-8cca-45e6aa6d4f81",
   "metadata": {},
   "outputs": [],
   "source": [
    "print(fall_cold_iac.shape, fall_cold_bob.shape)\n",
    "plotloc_2c(fall_cold_iac, fall_cold_bob, title=\"Fall, cold\")"
   ]
  },
  {
   "cell_type": "code",
   "execution_count": null,
   "id": "dfca7eb5-2270-4c43-8881-08b58eb11639",
   "metadata": {},
   "outputs": [],
   "source": [
    "print(fall_warm_iac.shape, fall_warm_bob.shape)\n",
    "plotloc_2c(fall_warm_iac, fall_warm_bob, title=\"Fall, warm\")"
   ]
  },
  {
   "cell_type": "code",
   "execution_count": null,
   "id": "d3041d70-39af-43ad-a08f-4709a10aa01a",
   "metadata": {},
   "outputs": [],
   "source": [
    "print(winter_cold_iac.shape, winter_cold_bob.shape)\n",
    "plotloc_2c(winter_cold_iac, winter_cold_bob, title=\"Winter, cold\")"
   ]
  },
  {
   "cell_type": "code",
   "execution_count": null,
   "id": "6ae3cd17",
   "metadata": {},
   "outputs": [],
   "source": [
    "print(winter_medium_iac.shape, winter_medium_bob.shape)\n",
    "plotloc_2c(winter_medium_iac, winter_medium_bob, title=\"Winter, medium\")"
   ]
  },
  {
   "cell_type": "code",
   "execution_count": null,
   "id": "a0998066-1921-42e8-a95a-ee63fd6ce494",
   "metadata": {},
   "outputs": [],
   "source": [
    "print(winter_warm_iac.shape, winter_warm_bob.shape)\n",
    "plotloc_2c(winter_warm_iac, winter_warm_bob, title=\"Winter, warm\")"
   ]
  },
  {
   "cell_type": "markdown",
   "id": "640aa351",
   "metadata": {},
   "source": [
    "***"
   ]
  },
  {
   "cell_type": "markdown",
   "id": "f5286748-4fc9-4579-8eef-1712f7067480",
   "metadata": {},
   "source": [
    "## <mark style=\"color: black; background-color: rgb(127,196,125); padding: 3px; border-radius: 5px;\">2. Mean nearest neighbor distance</mark>"
   ]
  },
  {
   "cell_type": "markdown",
   "id": "eda492f8",
   "metadata": {},
   "source": [
    "### <mark style=\"color: black; background-color: rgb(252,185,118); padding: 3px; border-radius: 5px;\">✍️ Exercise: Code along</mark>"
   ]
  },
  {
   "cell_type": "code",
   "execution_count": null,
   "id": "a474e4d6-8997-446d-8ab4-1db1a63988f7",
   "metadata": {
    "tags": [
     "teacher"
    ]
   },
   "outputs": [],
   "source": [
    "def meanNN(points1: np.ndarray, points2: np.ndarray) -> tuple[np.ndarray, float]:\n",
    "    \"\"\"\n",
    "    Computes the mean nearest neighbor distances for a set of 2D points.\n",
    "    Parameters:\n",
    "    - points1: array of shape (n_points, 2) representing the coordinates of the first set of points\n",
    "    - points2: array of shape (n_points, 2) representing the coordinates of the second set of points; if None, uses points1\n",
    "\n",
    "    Returns:\n",
    "    - min_dists: array of minimum distances of each point in points1 to its nearest neighbor in points2\n",
    "    - mean_nn: mean of the minimum distances\n",
    "    \"\"\"\n",
    "\n",
    "    d12 = distance_matrix(points1, points2)\n",
    "\n",
    "    if points1 is points2 or np.shares_memory(points1, points2):\n",
    "        np.fill_diagonal(d12, np.inf)\n",
    "\n",
    "    min_dists = np.min(d12, axis=1)\n",
    "    mean_nn = np.mean(min_dists)\n",
    "\n",
    "    return min_dists, mean_nn"
   ]
  },
  {
   "cell_type": "markdown",
   "id": "d9befcfb-da51-41c0-b938-a9deb1a9ea78",
   "metadata": {},
   "source": [
    "### <mark style=\"color: black; background-color: rgb(190,223,185); padding: 3px; border-radius: 5px;\">Compute Fall samples</mark>"
   ]
  },
  {
   "cell_type": "code",
   "execution_count": null,
   "id": "5754d192-2759-42bb-978d-ccd93a24e59b",
   "metadata": {},
   "outputs": [],
   "source": [
    "nndist_fall_med, meannn_fall_med = meanNN(fall_med_iac, fall_med_bob)\n",
    "nndist_fall_cold, meannn_fall_cold = meanNN(fall_cold_iac, fall_cold_bob)\n",
    "nndist_fall_warm, meannn_fall_warm = meanNN(fall_warm_iac, fall_warm_bob)\n",
    "\n",
    "\n",
    "# nndist_fall_med, meannn_fall_med = meanNN(fall_med_bob, fall_med_iac, )\n",
    "# nndist_fall_cold, meannn_fall_cold = meanNN(fall_cold_bob, fall_cold_iac)\n",
    "# nndist_fall_warm, meannn_fall_warm = meanNN(fall_warm_bob, fall_warm_iac)"
   ]
  },
  {
   "cell_type": "markdown",
   "id": "c8f1a16d-957d-4bb5-bd92-6da922264dab",
   "metadata": {},
   "source": [
    "### <mark style=\"color: black; background-color: rgb(190,223,185); padding: 3px; border-radius: 5px;\">Plot Fall samples</mark>"
   ]
  },
  {
   "cell_type": "code",
   "execution_count": null,
   "id": "a0ab4f09-559f-4f51-98bc-959319171ad9",
   "metadata": {},
   "outputs": [],
   "source": [
    "plt.hist(nndist_fall_med, label=\"Fall medium\", alpha=0.5, bins=25)\n",
    "plt.hist(nndist_fall_cold, label=\"Fall cold\", alpha=0.5, bins=25)\n",
    "plt.hist(nndist_fall_warm, label=\"Fall warm\", alpha=0.5, bins=25)\n",
    "plt.xlabel(\"distance to nearest neighbor [a.u.]\")\n",
    "plt.axvline(\n",
    "    meannn_fall_med,\n",
    "    c=\"k\",\n",
    "    linestyle=\"--\",\n",
    "    label=f\"Fall medium: {meannn_fall_med.round(2)}\",\n",
    ")\n",
    "plt.axvline(\n",
    "    meannn_fall_cold,\n",
    "    c=\"k\",\n",
    "    linestyle=\":\",\n",
    "    label=f\"Fall cold: {meannn_fall_cold.round(2)}\",\n",
    ")\n",
    "plt.axvline(\n",
    "    meannn_fall_warm,\n",
    "    c=\"k\",\n",
    "    linestyle=\"-\",\n",
    "    label=f\"Fall warm: {meannn_fall_warm.round(2)}\",\n",
    ")\n",
    "plt.legend()"
   ]
  },
  {
   "cell_type": "markdown",
   "id": "c1dfb45f-668d-4a64-a873-fa244b10a31c",
   "metadata": {},
   "source": [
    "### <mark style=\"color: black; background-color: rgb(190,223,185); padding: 3px; border-radius: 5px;\">Compute Winter samples</mark>"
   ]
  },
  {
   "cell_type": "code",
   "execution_count": null,
   "id": "7b79f324-3f6d-4659-841c-e75f1ee4fafe",
   "metadata": {},
   "outputs": [],
   "source": [
    "nndist_winter_warm, meannn_winter_warm = meanNN(winter_warm_iac, winter_warm_bob)\n",
    "nndist_winter_medium, meannn_winter_medium = meanNN(\n",
    "    winter_medium_iac, winter_medium_bob\n",
    ")\n",
    "nndist_winter_cold, meannn_winter_cold = meanNN(winter_cold_iac, winter_cold_bob)"
   ]
  },
  {
   "cell_type": "markdown",
   "id": "4bc0558a-2023-411b-8ccb-7fd5209384d4",
   "metadata": {},
   "source": [
    "### <mark style=\"color: black; background-color: rgb(190,223,185); padding: 3px; border-radius: 5px;\">Plot Winter samples</mark>"
   ]
  },
  {
   "cell_type": "code",
   "execution_count": null,
   "id": "3bc79d50-15ab-4406-9e4c-b0552da63ccb",
   "metadata": {},
   "outputs": [],
   "source": [
    "plt.hist(nndist_winter_cold, label=\"Winter cold\", alpha=0.5, bins=25)\n",
    "plt.hist(nndist_winter_medium, label=\"Winter medium\", alpha=0.5, bins=25)\n",
    "plt.hist(nndist_winter_warm, label=\"Winter warm\", alpha=0.5, bins=25)\n",
    "\n",
    "plt.xlabel(\"distance to nearest neighbor [a.u.]\")\n",
    "plt.title(\" IAC -> BOB \")\n",
    "plt.axvline(\n",
    "    meannn_winter_cold,\n",
    "    c=\"k\",\n",
    "    linestyle=\":\",\n",
    "    label=f\"Winter cold: {meannn_winter_cold.round(2)}\",\n",
    ")\n",
    "plt.axvline(\n",
    "    meannn_winter_medium,\n",
    "    c=\"k\",\n",
    "    linestyle=\"--\",\n",
    "    label=f\"Winter medium: {meannn_winter_medium.round(2)}\",\n",
    ")\n",
    "plt.axvline(\n",
    "    meannn_winter_warm,\n",
    "    c=\"k\",\n",
    "    linestyle=\"-\",\n",
    "    label=f\"Winter warm: {meannn_winter_warm.round(2)}\",\n",
    ")\n",
    "plt.legend()"
   ]
  },
  {
   "cell_type": "markdown",
   "id": "076a33b0",
   "metadata": {},
   "source": [
    "### <mark style=\"color: black; background-color: rgb(252,185,118); padding: 3px; border-radius: 5px;\">✍️ Exercise: Change the order of points provided to ```meanNN()``` for the winter samples</mark>\n",
    "E.g. switch the order in which ```winter_warm_iac``` and ```winter_warm_bob``` is passed to ```meanNN()```.   \n",
    "Do the same for ```winter_cold_iac``` and ```winter_cold_bob```, as well as ```winter_medium_iac``` and ```winter_medium_bob```. "
   ]
  },
  {
   "cell_type": "code",
   "execution_count": null,
   "id": "85e949e3",
   "metadata": {},
   "outputs": [],
   "source": [
    "nndist_winter_warm_2, meannn_winter_warm_2 = ..., ...\n",
    "nndist_winter_medium_2, meannn_winter_medium_2 = ..., ...\n",
    "nndist_winter_cold_2, meannn_winter_cold_2 = ..., ..."
   ]
  },
  {
   "cell_type": "code",
   "execution_count": null,
   "id": "bf9e6145",
   "metadata": {
    "tags": [
     "teacher"
    ]
   },
   "outputs": [],
   "source": [
    "nndist_winter_warm_2, meannn_winter_warm_2 = meanNN(winter_warm_bob, winter_warm_iac)\n",
    "nndist_winter_medium_2, meannn_winter_medium_2 = meanNN(\n",
    "    winter_medium_bob, winter_medium_iac\n",
    ")\n",
    "nndist_winter_cold_2, meannn_winter_cold_2 = meanNN(winter_cold_bob, winter_cold_iac)"
   ]
  },
  {
   "cell_type": "markdown",
   "id": "b9e0f5de",
   "metadata": {},
   "source": [
    "### <mark style=\"color: black; background-color: rgb(190,223,185); padding: 3px; border-radius: 5px;\">Plot the results</mark>"
   ]
  },
  {
   "cell_type": "code",
   "execution_count": null,
   "id": "67a3d184",
   "metadata": {},
   "outputs": [],
   "source": [
    "plt.hist(nndist_winter_cold_2, label=\"Winter cold\", alpha=0.5, bins=25)\n",
    "plt.hist(nndist_winter_medium_2, label=\"Winter medium\", alpha=0.5, bins=25)\n",
    "plt.hist(nndist_winter_warm_2, label=\"Winter warm\", alpha=0.5, bins=25)\n",
    "\n",
    "plt.title(\"BOB -> IAC\")\n",
    "plt.xlabel(\"distance to nearest neighbor [a.u.]\")\n",
    "plt.axvline(\n",
    "    meannn_winter_cold_2,\n",
    "    c=\"k\",\n",
    "    linestyle=\":\",\n",
    "    label=f\"Winter cold: {meannn_winter_cold_2.round(2)}\",\n",
    ")\n",
    "plt.axvline(\n",
    "    meannn_winter_medium_2,\n",
    "    c=\"k\",\n",
    "    linestyle=\"--\",\n",
    "    label=f\"Winter medium: {meannn_winter_medium_2.round(2)}\",\n",
    ")\n",
    "plt.axvline(\n",
    "    meannn_winter_warm_2,\n",
    "    c=\"k\",\n",
    "    linestyle=\"-\",\n",
    "    label=f\"Winter warm: {meannn_winter_warm_2.round(2)}\",\n",
    ")\n",
    "plt.legend()"
   ]
  },
  {
   "cell_type": "markdown",
   "id": "9085e6ea",
   "metadata": {},
   "source": [
    "***"
   ]
  },
  {
   "cell_type": "markdown",
   "id": "22da549c-56dd-4078-bfd9-adfea92450cd",
   "metadata": {},
   "source": [
    "## <mark style=\"color: black; background-color: rgb(127,196,125); padding: 3px; border-radius: 5px;\">3. Nearest neighbor function</mark>"
   ]
  },
  {
   "cell_type": "code",
   "execution_count": null,
   "id": "b2baab25-9ea3-44bc-a289-c75132dbeef2",
   "metadata": {},
   "outputs": [],
   "source": [
    "def nearest_neighbor_function(\n",
    "    points1: np.ndarray, points2: np.ndarray, radii: np.ndarray\n",
    ") -> np.ndarray:\n",
    "    \"\"\"\n",
    "    Computes the nearest neighbor function for a set of 2D points.\n",
    "\n",
    "    Parameters:\n",
    "    - points1: array of shape (n_points, 2) representing the coordinates of the first set of points\n",
    "    - points2: array of shape (n_points, 2) representing the coordinates of the second set of points\n",
    "    - radii: array-like of radii at which to evaluate the nearest neighbor function\n",
    "    Returns:\n",
    "    - S: array of nearest neighbor function values at each radius\n",
    "    - mu0: array of expected values under the null model at each radius\n",
    "    \"\"\"\n",
    "\n",
    "    # calculate area based on bounding box of all points\n",
    "    allpoints = np.vstack((points1, points2))\n",
    "    max_x, max_y = np.max(allpoints, axis=0)\n",
    "    min_x, min_y = np.min(allpoints, axis=0)\n",
    "    (max_x - min_x) * (max_y - min_y)\n",
    "\n",
    "    n1 = len(points1)  # number of points in the first set\n",
    "    d12 = distance_matrix(points1, points2)\n",
    "\n",
    "    if points1 is points2 or np.shares_memory(points1, points2):\n",
    "        np.fill_diagonal(\n",
    "            d12, np.inf\n",
    "        )  # Set diagonal to infinity to ignore self-distances\n",
    "\n",
    "    min_dists = np.min(d12, axis=1)  # nearest neighbor distances per point\n",
    "\n",
    "    S = np.empty(radii.shape, dtype=float)\n",
    "\n",
    "    for i, r in enumerate(radii):\n",
    "        within_r = min_dists < r\n",
    "        n_within_r = len(min_dists[within_r])\n",
    "        S[i] = n_within_r / n1\n",
    "\n",
    "    return S"
   ]
  },
  {
   "cell_type": "code",
   "execution_count": null,
   "id": "78839887-f615-4201-84a3-d48099d696bf",
   "metadata": {
    "tags": [
     "hide-cell"
    ]
   },
   "outputs": [],
   "source": [
    "def plot_nn_function(\n",
    "    s: np.ndarray,\n",
    "    radii: np.ndarray,\n",
    "    nulldist: np.ndarray = None,\n",
    "    show: bool = True,\n",
    "    label: str = \"observed\",\n",
    "    line: str = \"-\",\n",
    ") -> None:\n",
    "    \"\"\"Plots the nearest neighbor function S(r) with optional null model mean.\n",
    "    Parameters:\n",
    "    - s: array of S(r) values\n",
    "    - radii: array of radii at which S(r) is evaluated\n",
    "    - nulldist: optional array of null model mean values; if provided, plotted in red\n",
    "    - show: if True, displays the plot; if False, only prepares the plot\n",
    "    - label: label for the S(r) line in the plot\n",
    "    - line: line style for the S(r) plot; default is solid line\n",
    "    \"\"\"\n",
    "    if nulldist is not None:\n",
    "        plt.plot(radii, nulldist, c=\"red\", alpha=0.5, label=\"null‐model mean\")\n",
    "\n",
    "    plt.plot(radii, s, c=\"black\", alpha=0.8, label=f\"{label}\", linestyle=line)\n",
    "\n",
    "    plt.legend()\n",
    "    plt.xlabel(\"r\")\n",
    "    plt.ylabel(\"S(r)\")\n",
    "    plt.tight_layout()\n",
    "    if show:\n",
    "        plt.show()"
   ]
  },
  {
   "cell_type": "markdown",
   "id": "ca44320b-a19d-4da1-98bb-7769d70776df",
   "metadata": {},
   "source": [
    "### <mark style=\"color: black; background-color: rgb(190,223,185); padding: 3px; border-radius: 5px;\">Define radii for which to evaluate the nearest neighbor function</mark>"
   ]
  },
  {
   "cell_type": "code",
   "execution_count": null,
   "id": "03adbb7a-dbe6-46d8-8320-553a33667d1a",
   "metadata": {},
   "outputs": [],
   "source": [
    "radii = np.arange(0, 3, 0.25)"
   ]
  },
  {
   "cell_type": "markdown",
   "id": "b1d664b9-a231-419b-8292-cbb162eb5451",
   "metadata": {},
   "source": [
    "#### Inspect the fall samples"
   ]
  },
  {
   "cell_type": "code",
   "execution_count": null,
   "id": "4d0de595-4211-438f-906c-a8877b8ef6db",
   "metadata": {},
   "outputs": [],
   "source": [
    "s_fall_med = nearest_neighbor_function(fall_med_iac, fall_med_bob, radii)\n",
    "s_fall_warm = nearest_neighbor_function(fall_warm_iac, fall_warm_bob, radii)\n",
    "s_fall_cold = nearest_neighbor_function(fall_cold_iac, fall_cold_bob, radii)"
   ]
  },
  {
   "cell_type": "code",
   "execution_count": null,
   "id": "d0da605d-6c9a-4a91-a10d-b4175329bf57",
   "metadata": {},
   "outputs": [],
   "source": [
    "plot_nn_function(s_fall_cold, radii, show=False, label=\"Fall cold\", line=\":\")\n",
    "plot_nn_function(s_fall_med, radii, show=False, label=\"Fall medium\", line=\"--\")\n",
    "plot_nn_function(s_fall_warm, radii, show=False, label=\"Fall warm\", line=\"-\")"
   ]
  },
  {
   "cell_type": "markdown",
   "id": "5c0a3531-157b-4475-a4ba-b82eff406d54",
   "metadata": {},
   "source": [
    "#### Inspect the winter samples"
   ]
  },
  {
   "cell_type": "code",
   "execution_count": null,
   "id": "804e2052-226b-48d4-b1b2-0a13bac2ae37",
   "metadata": {},
   "outputs": [],
   "source": [
    "s_winter_warm = nearest_neighbor_function(winter_warm_iac, winter_warm_bob, radii)\n",
    "s_winter_medium = nearest_neighbor_function(winter_medium_iac, winter_medium_bob, radii)\n",
    "s_winter_cold = nearest_neighbor_function(winter_cold_iac, winter_cold_bob, radii)\n",
    "s_winter_warm_2 = nearest_neighbor_function(winter_warm_bob, winter_warm_iac, radii)\n",
    "s_winter_medium_2 = nearest_neighbor_function(\n",
    "    winter_medium_bob, winter_medium_iac, radii\n",
    ")\n",
    "s_winter_cold_2 = nearest_neighbor_function(winter_cold_bob, winter_cold_iac, radii)"
   ]
  },
  {
   "cell_type": "code",
   "execution_count": null,
   "id": "3a933575-b292-49b8-bed4-a24d6832d812",
   "metadata": {},
   "outputs": [],
   "source": [
    "plot_nn_function(\n",
    "    s_winter_cold, radii, show=False, label=\"Winter cold IAC -> BOB\", line=\":\"\n",
    ")\n",
    "plot_nn_function(\n",
    "    s_winter_medium, radii, show=False, label=\"Winter medium IAC -> BOB\", line=\"--\"\n",
    ")\n",
    "plot_nn_function(\n",
    "    s_winter_warm, radii, show=False, label=\"Winter warm IAC -> BOB\", line=\"-\"\n",
    ")"
   ]
  },
  {
   "cell_type": "code",
   "execution_count": null,
   "id": "e708a9d3",
   "metadata": {},
   "outputs": [],
   "source": [
    "plot_nn_function(\n",
    "    s_winter_cold_2, radii, show=False, label=\"Winter cold BOB -> IAC\", line=\":\"\n",
    ")\n",
    "plot_nn_function(\n",
    "    s_winter_medium_2, radii, show=False, label=\"Winter medium BOB -> IAC\", line=\"--\"\n",
    ")\n",
    "plot_nn_function(\n",
    "    s_winter_warm_2, radii, show=False, label=\"Winter warm BOB -> IAC\", line=\"-\"\n",
    ")"
   ]
  },
  {
   "cell_type": "markdown",
   "id": "b70cdf2d",
   "metadata": {},
   "source": [
    "***"
   ]
  },
  {
   "cell_type": "markdown",
   "id": "c7f55f99-5bf0-4475-9817-05b506365752",
   "metadata": {},
   "source": [
    "## <mark style=\"color: black; background-color: rgb(127,196,125); padding: 3px; border-radius: 5px;\">4. Ripley's K function</mark>"
   ]
  },
  {
   "cell_type": "code",
   "execution_count": null,
   "id": "34bf8bb9-afbe-4cc9-bbf4-1c2a8e4ff402",
   "metadata": {},
   "outputs": [],
   "source": [
    "def ripleys_k_function(\n",
    "    points1: np.ndarray,\n",
    "    points2: np.ndarray,\n",
    "    radii: np.ndarray,\n",
    "    area=None,\n",
    "    edge_correction=False,\n",
    ") -> np.ndarray:\n",
    "    \"\"\"\n",
    "    Computes Ripley's K function for a set of 2D points.\n",
    "\n",
    "    Parameters:\n",
    "    - points1: array of shape (n_points, 2) representing the coordinates of the first set of points\n",
    "    - points2: array of shape (n_points, 2) representing the coordinates of the second set of points\n",
    "    - radii: array-like of radii at which to evaluate K\n",
    "    - area: total area of the observation window; if None, calculated from bounding box\n",
    "    - edge_correction: if True, applies basic border edge correction\n",
    "\n",
    "    Returns:\n",
    "    - ks: K-function values at each radius\n",
    "    \"\"\"\n",
    "\n",
    "    #### Get the number of points\n",
    "    n1 = len(points1)\n",
    "    n2 = len(points2)\n",
    "    ks = np.zeros_like(radii, dtype=float)\n",
    "    dists = distance_matrix(points1, points2)\n",
    "\n",
    "    #### Compute area if not provided\n",
    "    allpoints = np.vstack((points1, points2))\n",
    "    max_x, max_y = np.max(allpoints, axis=0)\n",
    "\n",
    "    if area is None:\n",
    "        min_x, min_y = np.min(allpoints, axis=0)\n",
    "        area = (max_x - min_x) * (max_y - min_y)\n",
    "    else:\n",
    "        min_x = 0\n",
    "        min_y = 0\n",
    "        max_x = np.max([max_x, np.sqrt(area)])\n",
    "        max_y = np.max([max_y, np.sqrt(area)])\n",
    "\n",
    "    if edge_correction:\n",
    "        # Determine FOV area\n",
    "        square = box(min_x, min_y, max_x, max_y)\n",
    "        area_correction = np.zeros_like(dists)\n",
    "\n",
    "        for i in range(n1):\n",
    "            for j in range(n2):\n",
    "                circle = Point(points1[i]).buffer(dists[i][j])\n",
    "                if circle.area == 0 or circle.intersection(square).area == 0:\n",
    "                    continue  # Avoid division by zero\n",
    "                area_correction[i][j] = circle.area / circle.intersection(square).area\n",
    "\n",
    "    if points1 is points2 or np.shares_memory(points1, points2):\n",
    "        np.fill_diagonal(dists, np.inf)\n",
    "\n",
    "    for i, r in enumerate(radii):\n",
    "        within_r = dists < r\n",
    "\n",
    "        if edge_correction:\n",
    "            within_r = within_r * area_correction\n",
    "\n",
    "        count_within_r = np.sum(within_r)\n",
    "\n",
    "        ks[i] = (area / (n1 * n2)) * count_within_r\n",
    "\n",
    "    return ks"
   ]
  },
  {
   "cell_type": "markdown",
   "id": "4a3c2228-3a8c-4010-8138-4556fdb81360",
   "metadata": {},
   "source": [
    "### <mark style=\"color: black; background-color: rgb(190,223,185); padding: 3px; border-radius: 5px;\">Define radii for which to compute Ripley's K function</mark>"
   ]
  },
  {
   "cell_type": "markdown",
   "id": "da5062f7",
   "metadata": {},
   "source": [
    "### <mark style=\"color: black; background-color: rgb(252,185,118); padding: 3px; border-radius: 5px;\">✍️ Exercise: Think: Should these be the same maximum radius as provided to the nearest neighbor function? </mark>\n",
    "If yes, why?  \n",
    "If no, why not?  "
   ]
  },
  {
   "cell_type": "code",
   "execution_count": null,
   "id": "8c9bb60d-ca22-484c-960e-88a0c6544df3",
   "metadata": {},
   "outputs": [],
   "source": [
    "k_radii = np.arange(0, 5.01, 0.5)  # radii for which to compute the K-function"
   ]
  },
  {
   "cell_type": "markdown",
   "id": "05d47aaf-e6e0-49f0-be2d-2c157c1a0f47",
   "metadata": {},
   "source": [
    "#### Compute K for the fall samples"
   ]
  },
  {
   "cell_type": "code",
   "execution_count": null,
   "id": "7ed74be2-c5f5-4153-96fd-5bf08734ecd2",
   "metadata": {},
   "outputs": [],
   "source": [
    "k_fall_med = ripleys_k_function(fall_med_iac, fall_med_bob, radii=k_radii, area=400)\n",
    "k_fall_cold = ripleys_k_function(fall_cold_iac, fall_cold_bob, radii=k_radii, area=400)\n",
    "k_fall_warm = ripleys_k_function(fall_warm_iac, fall_warm_bob, radii=k_radii, area=400)"
   ]
  },
  {
   "cell_type": "markdown",
   "id": "f5e32e60-9208-46f9-bd09-f681e9b9c762",
   "metadata": {},
   "source": [
    "#### Compute K for the winter samples"
   ]
  },
  {
   "cell_type": "code",
   "execution_count": null,
   "id": "ef45b803-8a0b-4857-80e2-b32145f07122",
   "metadata": {},
   "outputs": [],
   "source": [
    "k_winter_warm = ripleys_k_function(\n",
    "    winter_warm_iac, winter_warm_bob, radii=k_radii, area=400\n",
    ")\n",
    "k_winter_medium = ripleys_k_function(\n",
    "    winter_medium_iac, winter_medium_bob, radii=k_radii, area=400\n",
    ")\n",
    "k_winter_cold = ripleys_k_function(\n",
    "    winter_cold_iac, winter_cold_bob, radii=k_radii, area=400\n",
    ")"
   ]
  },
  {
   "cell_type": "markdown",
   "id": "946c3abb",
   "metadata": {},
   "source": [
    "#### Here, we change the order to BOB -> IAC for ```k_winter_medium```"
   ]
  },
  {
   "cell_type": "code",
   "execution_count": null,
   "id": "3f2c5a71-b8fd-40aa-9e15-de1499ad4c3f",
   "metadata": {},
   "outputs": [],
   "source": [
    "k_winter_medium_2 = ripleys_k_function(\n",
    "    winter_medium_bob, winter_medium_iac, radii=k_radii, area=400\n",
    ")\n",
    "\n",
    "print(k_winter_medium_2 == k_winter_medium)"
   ]
  },
  {
   "cell_type": "markdown",
   "id": "415b43cf-3749-4bbd-89c2-dee723e4ab41",
   "metadata": {},
   "source": [
    "#### Inspect the results"
   ]
  },
  {
   "cell_type": "code",
   "execution_count": null,
   "id": "dcdf5a59-9fa2-4dfb-92d0-44e422e1ca13",
   "metadata": {
    "tags": [
     "hide-cell"
    ]
   },
   "outputs": [],
   "source": [
    "def plot_ripleys_k(\n",
    "    k: np.ndarray,\n",
    "    radii: np.ndarray,\n",
    "    label: str = \"uniform\",\n",
    "    show: bool = True,\n",
    "    line: str = \"-\",\n",
    ") -> None:\n",
    "    \"\"\"\n",
    "    Plots Ripley's K function.\n",
    "    Parameters:\n",
    "    - k: array of K function values\n",
    "    - radii: array of radii at which K is evaluated\n",
    "    - label: label for the plot\n",
    "    - show: whether to show the plot\n",
    "    - line: line style for the plot\n",
    "    \"\"\"\n",
    "    plt.plot(radii, k, color=\"k\", label=f\"{label}, no edge correction\", linestyle=line)\n",
    "    plt.xlabel(\"r\")\n",
    "    plt.ylabel(\"K(r)\")\n",
    "    plt.legend()\n",
    "    if show:\n",
    "        plt.show()"
   ]
  },
  {
   "cell_type": "markdown",
   "id": "ba63bb68-3415-4f3e-b654-3a5ab79b59af",
   "metadata": {},
   "source": [
    "#### Fall samples"
   ]
  },
  {
   "cell_type": "code",
   "execution_count": null,
   "id": "0c5bfba5-bdc5-4613-91f8-11519c86f905",
   "metadata": {},
   "outputs": [],
   "source": [
    "plot_ripleys_k(k_fall_cold, k_radii, label=\"Fall cold\", show=False, line=\":\")\n",
    "plot_ripleys_k(k_fall_med, k_radii, label=\"Fall medium\", show=False, line=\"--\")\n",
    "plot_ripleys_k(k_fall_warm, k_radii, label=\"Fall warm\", show=False, line=\"-\")"
   ]
  },
  {
   "cell_type": "markdown",
   "id": "1062e1af-10c3-4176-be94-10fce90df82d",
   "metadata": {},
   "source": [
    "#### Winter samples"
   ]
  },
  {
   "cell_type": "code",
   "execution_count": null,
   "id": "9a5f429d-92a8-4318-a674-b6c4829404d2",
   "metadata": {},
   "outputs": [],
   "source": [
    "plot_ripleys_k(k_winter_cold, k_radii, label=\"Winter cold\", line=\":\", show=False)\n",
    "plot_ripleys_k(k_winter_medium, k_radii, label=\"Winter medium\", line=\"--\", show=False)\n",
    "plot_ripleys_k(k_winter_warm, k_radii, label=\"Winter warm\", show=False)"
   ]
  },
  {
   "cell_type": "markdown",
   "id": "0232df15-40d1-488c-995b-d1d357c990ae",
   "metadata": {},
   "source": [
    "### <mark style=\"color: black; background-color: rgb(190,223,185); padding: 3px; border-radius: 5px;\">4.1 Ripley's K with edge correction</mark>"
   ]
  },
  {
   "cell_type": "code",
   "execution_count": null,
   "id": "ad644fb8-72e2-418f-b119-01653507ce52",
   "metadata": {
    "tags": [
     "hide-cell"
    ]
   },
   "outputs": [],
   "source": [
    "def plot_ripleys_k_ec(\n",
    "    k: np.ndarray, k_corrected: np.ndarray, radii: np.ndarray, label: str = \"uniform\"\n",
    ") -> None:\n",
    "    \"\"\"\n",
    "    Plots Ripley's K function with and without edge correction.\n",
    "    Parameters:\n",
    "    - k: array of K function values without edge correction\n",
    "    - k_corrected: array of K function values with edge correction\n",
    "    - radii: array of radii at which K function is evaluated\n",
    "    - label: label for the plot, default is \"uniform\"\n",
    "    \"\"\"\n",
    "    plt.plot(\n",
    "        radii,\n",
    "        k,\n",
    "        color=\"k\",\n",
    "        label=f\"{label}, no edge correction\",\n",
    "        linestyle=\"-\",\n",
    "        alpha=0.5,\n",
    "    )\n",
    "    plt.plot(\n",
    "        radii,\n",
    "        k_corrected,\n",
    "        color=\"k\",\n",
    "        label=f\"{label}, edge correction\",\n",
    "        linestyle=\"-.\",\n",
    "    )\n",
    "    plt.title(\"Ripley's K function\")\n",
    "    plt.legend()\n",
    "    plt.xlabel(\"r\")\n",
    "    plt.ylabel(\"K(r)\")\n",
    "    # plt.show()"
   ]
  },
  {
   "cell_type": "markdown",
   "id": "1e70a927-8284-4f7a-be0d-aba93688b85f",
   "metadata": {},
   "source": [
    "#### Compute the fall samples"
   ]
  },
  {
   "cell_type": "code",
   "execution_count": null,
   "id": "e21a9226-0f5e-4fd7-866d-70f376da714f",
   "metadata": {},
   "outputs": [],
   "source": [
    "k_fall_med_ec = ripleys_k_function(\n",
    "    fall_med_iac, fall_med_bob, radii=k_radii, area=400, edge_correction=True\n",
    ")\n",
    "k_fall_warm_ec = ripleys_k_function(\n",
    "    fall_warm_iac, fall_warm_bob, radii=k_radii, area=400, edge_correction=True\n",
    ")\n",
    "\n",
    "k_fall_cold_ec = ripleys_k_function(\n",
    "    fall_cold_iac, fall_cold_bob, radii=k_radii, area=400, edge_correction=True\n",
    ")"
   ]
  },
  {
   "cell_type": "markdown",
   "id": "e58f7218-6d64-4130-9543-9bf85db220e3",
   "metadata": {},
   "source": [
    "#### Compute the winter samples"
   ]
  },
  {
   "cell_type": "code",
   "execution_count": null,
   "id": "840d774d-5938-4239-9cc7-c8b82fcb5a7d",
   "metadata": {},
   "outputs": [],
   "source": [
    "k_winter_warm_ec = ripleys_k_function(\n",
    "    winter_warm_iac, winter_warm_bob, radii=k_radii, area=400, edge_correction=True\n",
    ")\n",
    "\n",
    "k_winter_medium_ec = ripleys_k_function(\n",
    "    winter_medium_iac, winter_medium_bob, radii=k_radii, area=400, edge_correction=True\n",
    ")\n",
    "\n",
    "k_winter_cold_ec = ripleys_k_function(\n",
    "    winter_cold_iac, winter_cold_bob, radii=k_radii, area=400, edge_correction=True\n",
    ")"
   ]
  },
  {
   "cell_type": "markdown",
   "id": "5a8dc49d-45c7-4c2e-aad7-9c8d72e4a008",
   "metadata": {},
   "source": [
    "#### Plot a fall sample with edge correction"
   ]
  },
  {
   "cell_type": "code",
   "execution_count": null,
   "id": "482f4e70-04bc-4efc-bb50-35cf45ec02fc",
   "metadata": {},
   "outputs": [],
   "source": [
    "plot_ripleys_k_ec(k_fall_warm, k_fall_warm_ec, k_radii, label=\"Fall warm\")"
   ]
  },
  {
   "cell_type": "markdown",
   "id": "8744dea4-4c13-4779-b2c2-3d1153f99505",
   "metadata": {},
   "source": [
    "#### Plot a winter sample with edge correction"
   ]
  },
  {
   "cell_type": "code",
   "execution_count": null,
   "id": "481c70db-6fd3-41f0-ad1c-18df5073a0aa",
   "metadata": {},
   "outputs": [],
   "source": [
    "plot_ripleys_k_ec(k_winter_cold, k_winter_cold_ec, k_radii, label=\"Winter cold\")"
   ]
  },
  {
   "cell_type": "markdown",
   "id": "9d6342a1",
   "metadata": {},
   "source": [
    "***"
   ]
  },
  {
   "cell_type": "markdown",
   "id": "eb1bdbde-132d-423a-8b0c-c9f0cc3c4ee8",
   "metadata": {},
   "source": [
    "## <mark style=\"color: black; background-color: rgb(127,196,125); padding: 3px; border-radius: 5px;\">5. Validations - the null distribution</mark>"
   ]
  },
  {
   "cell_type": "markdown",
   "id": "17f05132-8f9b-42de-a457-b2696bc4c4aa",
   "metadata": {},
   "source": [
    "### <mark style=\"color: black; background-color: rgb(190,223,185); padding: 3px; border-radius: 5px;\">Calculate the null distribution of the nearest neighbor function</mark>"
   ]
  },
  {
   "cell_type": "code",
   "execution_count": null,
   "id": "4432aa83-8908-4224-b6bf-df9f5c4684b1",
   "metadata": {},
   "outputs": [],
   "source": [
    "def getnulldist(n: int, radii: np.ndarray, area: float) -> np.ndarray:\n",
    "    \"\"\"\n",
    "    Computes the expected nearest neighbor distances under a null model for a set of 2D points.\n",
    "    Parameters:\n",
    "    - points2: array of shape (n_points, 2) representing the coordinates of the points to compute nearest n\n",
    "    neighbor distances to\n",
    "    - radii: array-like of radii at which to evaluate the null model\n",
    "\n",
    "    Returns:\n",
    "    - mu0: array of expected nearest neighbor distances at each radius\n",
    "    \"\"\"\n",
    "\n",
    "    mu0 = np.empty(radii.shape, dtype=float)\n",
    "\n",
    "    for i, r in enumerate(radii):\n",
    "        mu0[i] = 1 - np.exp(-(n / area) * np.pi * (r**2))\n",
    "\n",
    "    return mu0"
   ]
  },
  {
   "cell_type": "markdown",
   "id": "e04eecea",
   "metadata": {},
   "source": [
    "### <mark style=\"color: black; background-color: rgb(252,185,118); padding: 3px; border-radius: 5px;\">✍️ Exercise: Try different values for ```n``` and ```area``` </mark>\n",
    "You can plot the cell directly below to inspect the effect on ```nulldist```.  \n",
    "Try out different values.  \n",
    "Think what would be the correct values for the **fall samples**!"
   ]
  },
  {
   "cell_type": "code",
   "execution_count": null,
   "id": "fb05fe6d-3589-4f92-9543-47ee0ebb474b",
   "metadata": {},
   "outputs": [],
   "source": [
    "n = 1345345  # number of points in the dataset\n",
    "area = 4056780  # area of the FOV\n",
    "\n",
    "nulldist = getnulldist(\n",
    "    n=n, area=area, radii=radii\n",
    ")  # These are not good values for n and area. Change them!"
   ]
  },
  {
   "cell_type": "markdown",
   "id": "58a35988-3bfc-4db4-9068-0d35cb13e2c6",
   "metadata": {},
   "source": [
    "#### Plot the fall samples"
   ]
  },
  {
   "cell_type": "code",
   "execution_count": null,
   "id": "852a2140-c2ec-46f0-ba7e-998043478b61",
   "metadata": {},
   "outputs": [],
   "source": [
    "plot_nn_function(s_fall_cold, radii, show=False, label=\"Fall cold\", line=\":\")\n",
    "plot_nn_function(s_fall_med, radii, show=False, label=\"Fall medium\", line=\"--\")\n",
    "plot_nn_function(\n",
    "    s_fall_warm, radii, show=False, label=\"Fall warm\", line=\"-\", nulldist=nulldist\n",
    ")"
   ]
  },
  {
   "cell_type": "markdown",
   "id": "5586e9dd-d14d-49a6-bfa3-69f2f324e332",
   "metadata": {},
   "source": [
    "#### Plot the winter samples"
   ]
  },
  {
   "cell_type": "code",
   "execution_count": null,
   "id": "9f39a75e-8d10-40e4-ac14-688daa52bdfe",
   "metadata": {},
   "outputs": [],
   "source": [
    "plot_nn_function(s_winter_cold, radii, show=False, label=\"Winter cold\", line=\":\")\n",
    "plot_nn_function(s_winter_medium, radii, show=False, label=\"Winter medium\", line=\"--\")\n",
    "plot_nn_function(\n",
    "    s_winter_warm, radii, show=True, label=\"Winter warm\", nulldist=nulldist\n",
    ")"
   ]
  },
  {
   "cell_type": "markdown",
   "id": "357ad2a7",
   "metadata": {},
   "source": [
    "***"
   ]
  },
  {
   "cell_type": "markdown",
   "id": "1fdc17e3-d85e-4215-9428-ebc1f47e3017",
   "metadata": {},
   "source": [
    "## <mark style=\"color: black; background-color: rgb(127,196,125); padding: 3px; border-radius: 5px;\">6. Validation - Monte-Carlo based null-hypothesis testing</mark>"
   ]
  },
  {
   "cell_type": "markdown",
   "id": "817759b7",
   "metadata": {},
   "source": [
    "### <mark style=\"color: black; background-color: rgb(252,185,118); padding: 3px; border-radius: 5px;\">✍️ Exercise, code along: Blindly throw darts at a 20 x 20 cm board</mark>"
   ]
  },
  {
   "cell_type": "code",
   "execution_count": null,
   "id": "c5c9f0a6",
   "metadata": {
    "tags": [
     "teacher"
    ]
   },
   "outputs": [],
   "source": [
    "seed = 5\n",
    "rng = np.random.default_rng(seed)\n",
    "board_x = 20\n",
    "board_y = 20\n",
    "n_darts = 500\n",
    "x = rng.uniform(0, board_x, size=n_darts)\n",
    "y = rng.uniform(0, board_y, size=n_darts)\n",
    "\n",
    "plt.scatter(x, y)\n",
    "plt.xlabel(\"x [au]\")\n",
    "plt.ylabel(\"y [au]\")\n",
    "plt.title(\"Darts on a board\")\n",
    "plt.gca().set_aspect(\"equal\")"
   ]
  },
  {
   "cell_type": "markdown",
   "id": "d1e03e44-9b6d-4d1b-89be-b31897f6f87b",
   "metadata": {},
   "source": [
    "### <mark style=\"color: black; background-color: rgb(190,223,185); padding: 3px; border-radius: 5px;\">6.1 Simulate under the null hypothesis</mark>"
   ]
  },
  {
   "cell_type": "code",
   "execution_count": null,
   "id": "de50af08-a06e-4d07-8d12-057c3c686a9a",
   "metadata": {},
   "outputs": [],
   "source": [
    "def sample_uniform_points_batch(\n",
    "    ndraw: int, num_points: int = 400, x_max: int = 10, y_max: int = 10, seed: int = 42\n",
    ") -> np.ndarray:\n",
    "    \"\"\"\n",
    "    Generate *ndraw* independent batches of 2-D points drawn from independent\n",
    "    **uniform random** distributions on the rectangle ``[0, x_max] × [0, y_max]``.\n",
    "\n",
    "    Unlike a “uniform grid,” the points are *randomly* scattered—each position\n",
    "    inside the rectangle has equal probability of being chosen.\n",
    "\n",
    "    Parameters\n",
    "    ----------\n",
    "    ndraw : int\n",
    "        Number of batches to generate.\n",
    "    num_points : int\n",
    "        Number of points in each batch.\n",
    "    x_max : int\n",
    "        Maximum x-coordinate value.\n",
    "    y_max : int\n",
    "        Maximum y-coordinate value.\n",
    "    seed : int\n",
    "        Random seed for reproducibility.\n",
    "\n",
    "    Returns\n",
    "    -------\n",
    "    np.ndarray\n",
    "        Array of shape (ndraw, num_points, 2) containing the generated points.\n",
    "    \"\"\"\n",
    "    rng = np.random.default_rng(seed)\n",
    "\n",
    "    x = rng.uniform(0, x_max, size=(ndraw, num_points, 1))\n",
    "    y = rng.uniform(0, y_max, size=(ndraw, num_points, 1))\n",
    "\n",
    "    return np.concatenate([x, y], axis=-1)"
   ]
  },
  {
   "cell_type": "code",
   "execution_count": null,
   "id": "1fcf883d-e4dd-4555-8939-800555df9011",
   "metadata": {},
   "outputs": [],
   "source": [
    "ndraw = 1000  # Sufficiently large for statistics.\n",
    "num_points_c1 = len(fall_med_iac)  # Same number of points as c1\n",
    "num_points_c2 = len(fall_med_bob)  # Same number of points as c2\n",
    "\n",
    "# Generate random points for multiple samples, channel 1\n",
    "points_multiple_c1 = sample_uniform_points_batch(\n",
    "    ndraw, num_points=num_points_c1, x_max=20, y_max=20, seed=42\n",
    ")\n",
    "\n",
    "# channel 2\n",
    "points_multiple_c2 = sample_uniform_points_batch(\n",
    "    ndraw, num_points=num_points_c2, x_max=20, y_max=20, seed=43\n",
    ")"
   ]
  },
  {
   "cell_type": "markdown",
   "id": "3b941b67-d585-4fef-a012-7b985db3ced3",
   "metadata": {},
   "source": [
    "#### Inspect the random results"
   ]
  },
  {
   "cell_type": "code",
   "execution_count": null,
   "id": "6ca476d4-0fd5-4a46-9a41-87da4700f46c",
   "metadata": {},
   "outputs": [],
   "source": [
    "def plotpoints(points: np.ndarray, title: str = \"Monte carlo simulated points\") -> None:\n",
    "    \"\"\"Plots a set of 2D points.\n",
    "    Parameters:\n",
    "    - points: array of shape (n_points, 2) representing the coordinates of the points\n",
    "    - title: title of the plot\n",
    "\n",
    "    \"\"\"\n",
    "    plt.scatter(points[:, 0], points[:, 1], c=\"k\", s=10)\n",
    "    plt.title(label=title)\n",
    "\n",
    "    plt.xlabel(\"x [au]\")\n",
    "    plt.ylabel(\"y [au]\")\n",
    "    ax = plt.gca()\n",
    "    ax.set_aspect(\"equal\", adjustable=\"box\")"
   ]
  },
  {
   "cell_type": "code",
   "execution_count": null,
   "id": "b58cdfa6-2670-442f-801e-7acee9a39271",
   "metadata": {},
   "outputs": [],
   "source": [
    "sample_i = 999\n",
    "print(points_multiple_c1[sample_i].shape)\n",
    "print(points_multiple_c2[sample_i].shape)\n",
    "\n",
    "\n",
    "plotpoints(points_multiple_c1[sample_i])\n",
    "plt.show()\n",
    "plotpoints(points_multiple_c2[sample_i])\n",
    "plt.show()"
   ]
  },
  {
   "cell_type": "markdown",
   "id": "f094b9b1",
   "metadata": {},
   "source": [
    "***"
   ]
  },
  {
   "cell_type": "markdown",
   "id": "c6b04c4d-c603-4f72-98a1-48353ea63e5b",
   "metadata": {},
   "source": [
    "### <mark style=\"color: black; background-color: rgb(190,223,185); padding: 3px; border-radius: 5px;\">6.2 Validate - Mean nearest neighbor distance</mark>"
   ]
  },
  {
   "cell_type": "markdown",
   "id": "25d4ef94-b659-449b-8fca-fe363c2f31d8",
   "metadata": {},
   "source": [
    "#### Calculate the mean nearest neighbor distance for each random dataset "
   ]
  },
  {
   "cell_type": "code",
   "execution_count": null,
   "id": "ac34360f-0083-42bd-a0de-9b81bb70a55a",
   "metadata": {},
   "outputs": [],
   "source": [
    "nn_multiple = np.zeros(ndraw, dtype=float)\n",
    "for i in range(ndraw):  # for all randomly generated samples\n",
    "    _, mean_i = meanNN(\n",
    "        points_multiple_c1[i], points_multiple_c2[i]\n",
    "    )  # calculate their mean\n",
    "    nn_multiple[i] = mean_i"
   ]
  },
  {
   "cell_type": "markdown",
   "id": "d2232b50-1972-4cf2-9d87-74927d78ed5c",
   "metadata": {},
   "source": [
    "#### Define significance level for later testing"
   ]
  },
  {
   "cell_type": "code",
   "execution_count": null,
   "id": "225616ae-7dc6-441c-a851-6712e918c800",
   "metadata": {},
   "outputs": [],
   "source": [
    "alpha = 5  # significance level. Only 5% of simulations under the null hypothesis will lie outside a 95% significance level\n",
    "bound_low = alpha / 2\n",
    "bound_upper = 100 - bound_low\n",
    "\n",
    "# Compute percentiles for mean nearest neighbor distance of the simulated points\n",
    "percentile_low = np.percentile(\n",
    "    nn_multiple, bound_low\n",
    ")  # Only alpha/2 % of simulations lie below this value\n",
    "percentile_high = np.percentile(\n",
    "    nn_multiple, bound_upper\n",
    ")  # Only alpha/2 % of simulations lie above this value"
   ]
  },
  {
   "cell_type": "markdown",
   "id": "6e8d4555-ab78-4932-9ba4-260c17755489",
   "metadata": {},
   "source": [
    "#### Fall samples"
   ]
  },
  {
   "cell_type": "code",
   "execution_count": null,
   "id": "2eb1a02f-1b4c-4bcb-aadf-b5333b3f5d1d",
   "metadata": {},
   "outputs": [],
   "source": [
    "plt.hist(nndist_fall_med, label=\"Fall medium\", alpha=0.5, bins=25)\n",
    "plt.hist(nndist_fall_cold, label=\"Fall cold\", alpha=0.5, bins=25)\n",
    "plt.hist(nndist_fall_warm, label=\"Fall warm\", alpha=0.5, bins=25)\n",
    "plt.xlabel(\"distance to nearest neighbor [a.u.]\")\n",
    "plt.axvline(meannn_fall_med, c=\"k\", linestyle=\"--\", label=\"Fall medium\")\n",
    "plt.axvline(meannn_fall_cold, c=\"k\", linestyle=\":\", label=\"Fall cold\")\n",
    "plt.axvline(meannn_fall_warm, c=\"k\", linestyle=\"-\", label=\"Fall warm\")\n",
    "\n",
    "# Now we display the confidence bounds\n",
    "plt.axvspan(\n",
    "    percentile_low,\n",
    "    percentile_high,\n",
    "    color=\"gray\",\n",
    "    alpha=0.5,\n",
    "    label=f\"confidence band {bound_low}-{bound_upper}%\",\n",
    ")\n",
    "plt.legend()"
   ]
  },
  {
   "cell_type": "markdown",
   "id": "7a94cf39-fd0f-4c87-9ce6-076809b97bed",
   "metadata": {},
   "source": [
    "#### Winter samples"
   ]
  },
  {
   "cell_type": "code",
   "execution_count": null,
   "id": "ce9cf0e7-ffe8-41ad-adf5-fa30f574a909",
   "metadata": {},
   "outputs": [],
   "source": [
    "plt.hist(nndist_winter_cold, label=\"Winter cold\", alpha=0.5, bins=25)\n",
    "plt.hist(nndist_winter_warm, label=\"Winter warm\", alpha=0.5, bins=25)\n",
    "plt.xlabel(\"distance to nearest neighbor [a.u.]\")\n",
    "plt.axvline(meannn_winter_cold, c=\"k\", linestyle=\":\", label=\"Winter cold\")\n",
    "plt.axvline(meannn_winter_warm, c=\"k\", linestyle=\"-\", label=\"Winter warm\")\n",
    "plt.axvspan(\n",
    "    percentile_low,\n",
    "    percentile_high,\n",
    "    color=\"gray\",\n",
    "    alpha=0.5,\n",
    "    label=f\"confidence band {bound_low}-{bound_upper}%\",\n",
    ")\n",
    "plt.legend()"
   ]
  },
  {
   "cell_type": "markdown",
   "id": "ae70916e",
   "metadata": {},
   "source": [
    "***"
   ]
  },
  {
   "cell_type": "markdown",
   "id": "d04cfc52-2926-43c0-9b4a-5a2c8c110d8d",
   "metadata": {},
   "source": [
    "### <mark style=\"color: black; background-color: rgb(190,223,185); padding: 3px; border-radius: 5px;\">6.3 Validate - Nearest neighbor function</mark>"
   ]
  },
  {
   "cell_type": "markdown",
   "id": "bd2f4796-bf6e-4e34-86a8-adb9834f5b40",
   "metadata": {},
   "source": [
    "#### Plot confidence intervals for the nearest neighbor function: "
   ]
  },
  {
   "cell_type": "code",
   "execution_count": null,
   "id": "83333c30-35d3-4694-b868-b1be389c89bd",
   "metadata": {
    "tags": [
     "hide-cell"
    ]
   },
   "outputs": [],
   "source": [
    "def plot_envelope(\n",
    "    s: np.ndarray,\n",
    "    s_multiple: np.ndarray,\n",
    "    radii: np.ndarray,\n",
    "    alpha: float = 5,\n",
    "    label: str = \"data\",\n",
    "    metric: str = \"K(r)\",\n",
    "    show: bool = True,\n",
    "    linestyle: str = \"-\",\n",
    "):\n",
    "    \"\"\"\n",
    "    Plots the envelope of a metric (e.g., Nearest neighbor function, or K-function) with confidence intervals.\n",
    "    Parameters:\n",
    "    - s: array of metric values for the observed data\n",
    "    - s_multiple: array of metric values for multiple realizations (i.e. of monte Carlo simulations)\n",
    "    - radii: array of radii at which the metric is evaluated\n",
    "    - alpha: significance level for the confidence interval (default is 5)\n",
    "    - label: label for the observed data in the plot\n",
    "    - metric: name of the metric being plotted (default is \"K(r)\" for ripley's K function)\n",
    "    - show: whether to show the plot (default is True).\n",
    "    If False, the plot is not shown but can be saved or further processed.\n",
    "    \"\"\"\n",
    "    if show:  # show confidence intervals\n",
    "        ndraw = len(s_multiple)\n",
    "        s_multiple_mean = np.mean(s_multiple, axis=0)\n",
    "        bound_low = alpha / 2\n",
    "        bound_upper = 100 - bound_low\n",
    "        percentiles_low = np.percentile(s_multiple, bound_low, axis=0)\n",
    "        percentiles_high = np.percentile(s_multiple, bound_upper, axis=0)\n",
    "\n",
    "        plt.plot(  # plot the mean of the multiple realizations\n",
    "            radii,\n",
    "            s_multiple_mean,\n",
    "            color=\"grey\",\n",
    "            label=f\"mean of {ndraw} realizations\",\n",
    "            zorder=0,\n",
    "        )\n",
    "\n",
    "        plt.fill_between(  # fill the area between the percentiles\n",
    "            radii,\n",
    "            percentiles_low,\n",
    "            percentiles_high,\n",
    "            color=\"grey\",\n",
    "            alpha=0.3,\n",
    "            label=f\"{bound_low}-{bound_upper}% quantile range\",\n",
    "        )\n",
    "\n",
    "    plt.plot(\n",
    "        radii, s, label=label, color=\"k\", linestyle=linestyle\n",
    "    )  # plot the observed data\n",
    "    plt.legend()\n",
    "    plt.xlabel(\"r\")\n",
    "    plt.ylabel(f\"{metric}\")\n",
    "    # if show:\n",
    "    #     plt.show()"
   ]
  },
  {
   "cell_type": "markdown",
   "id": "5a97e271-9d18-4a81-9eed-3b7b45bd9dd1",
   "metadata": {},
   "source": [
    "### <mark style=\"color: black; background-color: rgb(190,223,185); padding: 3px; border-radius: 5px;\">Compute the nearest neighbor function for all random samples</mark>"
   ]
  },
  {
   "cell_type": "code",
   "execution_count": null,
   "id": "3ce1cf2c-c151-458f-a4e3-48835e8edde2",
   "metadata": {},
   "outputs": [],
   "source": [
    "s_multiple = np.zeros([ndraw, len(radii)], dtype=float)\n",
    "for i in range(ndraw):  # for all randomly generated samples\n",
    "    s_multiple[i] = nearest_neighbor_function(\n",
    "        points_multiple_c1[i], points_multiple_c2[i], radii\n",
    "    )"
   ]
  },
  {
   "cell_type": "markdown",
   "id": "8f489b04-ae62-40cb-af9e-bf685a297b2e",
   "metadata": {},
   "source": [
    "#### Fall samples"
   ]
  },
  {
   "cell_type": "code",
   "execution_count": null,
   "id": "eea015a8-abc8-45b4-8210-68402edbe58c",
   "metadata": {},
   "outputs": [],
   "source": [
    "plot_envelope(\n",
    "    s_fall_cold,\n",
    "    s_multiple,\n",
    "    radii=radii,\n",
    "    metric=\"S(r)\",\n",
    "    label=\"Fall cold\",\n",
    "    linestyle=\":\",\n",
    "    show=False,\n",
    ")\n",
    "plot_envelope(\n",
    "    s_fall_med,\n",
    "    s_multiple,\n",
    "    radii=radii,\n",
    "    metric=\"S(r)\",\n",
    "    label=\"Fall medium\",\n",
    "    linestyle=\"--\",\n",
    "    show=False,\n",
    ")\n",
    "\n",
    "plot_envelope(\n",
    "    s_fall_warm,\n",
    "    s_multiple,\n",
    "    radii=radii,\n",
    "    metric=\"S(r)\",\n",
    "    linestyle=\"-\",\n",
    "    label=\"Fall warm\",\n",
    "    show=True,\n",
    ")"
   ]
  },
  {
   "cell_type": "markdown",
   "id": "7e40a69c-b38c-4952-b444-137b3662f8fa",
   "metadata": {},
   "source": [
    "#### Winter samples"
   ]
  },
  {
   "cell_type": "code",
   "execution_count": null,
   "id": "12bcab9f-8f85-48bf-8692-9e6a556f6022",
   "metadata": {},
   "outputs": [],
   "source": [
    "plot_envelope(\n",
    "    s_winter_cold,\n",
    "    s_multiple,\n",
    "    radii=radii,\n",
    "    metric=\"S(r)\",\n",
    "    label=\"Winter cold\",\n",
    "    linestyle=\":\",\n",
    "    show=False,\n",
    ")\n",
    "\n",
    "plot_envelope(\n",
    "    s_winter_warm,\n",
    "    s_multiple,\n",
    "    radii=radii,\n",
    "    metric=\"S(r)\",\n",
    "    label=\"Winter warm\",\n",
    "    show=False,\n",
    ")"
   ]
  },
  {
   "cell_type": "markdown",
   "id": "b9b90c94",
   "metadata": {},
   "source": [
    "***"
   ]
  },
  {
   "cell_type": "markdown",
   "id": "dba54deb-7b31-46a6-92ed-ce11fc8f327a",
   "metadata": {},
   "source": [
    "### <mark style=\"color: black; background-color: rgb(190,223,185); padding: 3px; border-radius: 5px;\">6.4 Validate - Ripley's K</mark>"
   ]
  },
  {
   "cell_type": "markdown",
   "id": "7f477872-6bb6-45dc-9c4a-5618054cb041",
   "metadata": {},
   "source": [
    "Here, we can reuse the sample plotting function as defined for the nearest neighbor function"
   ]
  },
  {
   "cell_type": "markdown",
   "id": "85994720-d43f-4287-b26c-22c2b76f5924",
   "metadata": {},
   "source": [
    "#### Compute Ripley's K for all randomly generated samples"
   ]
  },
  {
   "cell_type": "code",
   "execution_count": null,
   "id": "709af531-6f97-4f0e-a119-19ff01d5bb25",
   "metadata": {},
   "outputs": [],
   "source": [
    "ks_multiple = np.zeros([ndraw, len(k_radii)], dtype=float)\n",
    "for i in range(ndraw):\n",
    "    ks_multiple[i] = ripleys_k_function(\n",
    "        points_multiple_c1[i],\n",
    "        points_multiple_c2[i],\n",
    "        radii=k_radii,\n",
    "        area=400,\n",
    "        edge_correction=False,\n",
    "    )"
   ]
  },
  {
   "cell_type": "markdown",
   "id": "a09a594f-7d7f-4fbb-a18e-86f249b66359",
   "metadata": {},
   "source": [
    "#### Fall samples"
   ]
  },
  {
   "cell_type": "code",
   "execution_count": null,
   "id": "500a0ba8-b37e-4fda-96fa-eee1bcc738a4",
   "metadata": {},
   "outputs": [],
   "source": [
    "plot_envelope(\n",
    "    k_fall_cold,\n",
    "    ks_multiple,\n",
    "    radii=k_radii,\n",
    "    metric=\"K(r)\",\n",
    "    label=\"Fall cold\",\n",
    "    show=False,\n",
    "    linestyle=\":\",\n",
    ")\n",
    "plot_envelope(\n",
    "    k_fall_med,\n",
    "    ks_multiple,\n",
    "    radii=k_radii,\n",
    "    metric=\"K(r)\",\n",
    "    label=\"Fall medium\",\n",
    "    linestyle=\"--\",\n",
    "    show=False,\n",
    ")\n",
    "\n",
    "plot_envelope(\n",
    "    k_fall_warm, ks_multiple, radii=k_radii, metric=\"K(r)\", label=\"Fall warm\", show=True\n",
    ")"
   ]
  },
  {
   "cell_type": "markdown",
   "id": "dbe89905-d468-491c-a733-10309bcbf7df",
   "metadata": {},
   "source": [
    "#### Winter samples"
   ]
  },
  {
   "cell_type": "code",
   "execution_count": null,
   "id": "d2e52904-8996-4096-907b-e5ec8301bcac",
   "metadata": {},
   "outputs": [],
   "source": [
    "plot_envelope(\n",
    "    k_winter_cold,\n",
    "    ks_multiple,\n",
    "    radii=k_radii,\n",
    "    metric=\"K(r)\",\n",
    "    label=\"Winter cold\",\n",
    "    linestyle=\":\",\n",
    "    show=False,\n",
    ")\n",
    "\n",
    "plot_envelope(\n",
    "    k_winter_warm,\n",
    "    ks_multiple,\n",
    "    radii=k_radii,\n",
    "    metric=\"K(r)\",\n",
    "    label=\"Winter warm\",\n",
    "    show=False,\n",
    ")"
   ]
  },
  {
   "cell_type": "code",
   "execution_count": null,
   "id": "7c118375",
   "metadata": {},
   "outputs": [],
   "source": []
  }
 ],
 "metadata": {
  "kernelspec": {
   "display_name": "bobiac",
   "language": "python",
   "name": "python3"
  },
  "language_info": {
   "codemirror_mode": {
    "name": "ipython",
    "version": 3
   },
   "file_extension": ".py",
   "mimetype": "text/x-python",
   "name": "python",
   "nbconvert_exporter": "python",
   "pygments_lexer": "ipython3",
   "version": "3.12.11"
  }
 },
 "nbformat": 4,
 "nbformat_minor": 5
}
