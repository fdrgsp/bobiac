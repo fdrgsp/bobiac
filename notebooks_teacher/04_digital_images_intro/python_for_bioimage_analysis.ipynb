{
 "cells": [
  {
   "cell_type": "markdown",
   "id": "1e143171-ec06-461d-af9b-52f8eb14add7",
   "metadata": {},
   "source": [
    "# Python for bioimage analysis"
   ]
  },
  {
   "cell_type": "code",
   "execution_count": null,
   "id": "95186589",
   "metadata": {},
   "outputs": [],
   "source": [
    "# /// script\n",
    "# requires-python = \">=3.12\"\n",
    "# dependencies = [\n",
    "#     \"bioio\",\n",
    "#     \"bioio-nd2\",\n",
    "#     \"imageio\",\n",
    "#     \"matplotlib\",\n",
    "#     \"ndv[jupyter,vispy]\",\n",
    "#     \"numpy\",\n",
    "#     \"rich\",\n",
    "#     \"tifffile\",\n",
    "# ]\n",
    "# ///"
   ]
  },
  {
   "cell_type": "markdown",
   "id": "299466fb-9262-4346-bde1-84cb2e0abe9a",
   "metadata": {},
   "source": [
    "## <mark style=\"color: black; background-color: rgb(127,196,125); padding: 3px; border-radius: 5px;\">Description</mark>\n",
    "This notebook focuses on ```numpy``` arrays - the most common representation of images in python.\n",
    "\n",
    "Numpy stands for *Numerical Python*. It lets us perform mathematical operations on ```numpy``` arrays.  \n",
    "A ```numpy``` array holds numeric data—such as images!  \n",
    "In short, ```numpy``` lets us compute on and manipulate images quickly.  \n",
    "\n",
    "## <mark style=\"color: black; background-color: rgb(127,196,125); padding: 3px; border-radius: 5px;\">Objectives</mark>\n",
    "We learn how to read in images, manipulate them and visualize them as ```numpy``` arrays, and about common pitfalls. \n",
    "\n",
    "## <mark style=\"color: black; background-color: rgb(127,196,125); padding: 3px; border-radius: 5px;\">Table of Contents</mark>\n",
    "1. Importing libraries\n",
    "2. Reading images using ```tifffile```\n",
    "3. View images using ```ndv```\n",
    "4. ```numpy```: indexing \n",
    "5. ```numpy```: multiple channels and z-stacks\n",
    "6. ```numpy```: generating ```numpy``` arrays\n",
    "7. Visualize images using ```matplotlib``` (functions) \n",
    "8. Reading images using ```bioio```"
   ]
  },
  {
   "cell_type": "markdown",
   "id": "946269a6",
   "metadata": {},
   "source": [
    "***"
   ]
  },
  {
   "cell_type": "markdown",
   "id": "881de5ae-438c-4ccd-ac3c-feef99f716f7",
   "metadata": {},
   "source": [
    "## <mark style=\"color: black; background-color: rgb(127,196,125); padding: 3px; border-radius: 5px;\">1. Import all necessary libraries</mark>"
   ]
  },
  {
   "cell_type": "code",
   "execution_count": null,
   "id": "96fc0a64-ddbf-4cff-96a8-41ff95b9851e",
   "metadata": {},
   "outputs": [],
   "source": [
    "import matplotlib.pyplot as plt\n",
    "import ndv\n",
    "import numpy as np\n",
    "import tifffile\n",
    "from bioio import BioImage\n",
    "from rich import print"
   ]
  },
  {
   "cell_type": "markdown",
   "id": "07b9f8f9",
   "metadata": {},
   "source": [
    "## <mark style=\"color: black; background-color: rgb(127,196,125); padding: 3px; border-radius: 5px;\">2. Read an image using ```tifffile```</mark>"
   ]
  },
  {
   "cell_type": "code",
   "execution_count": null,
   "id": "b7cd71d7-c9ee-44aa-86f8-6359d141525c",
   "metadata": {},
   "outputs": [],
   "source": [
    "stack_path = \"../../_static/images/python4bia/confocal-series.tif\"  # Specify the path to the image\n",
    "stack = tifffile.imread(stack_path)  # read stack_path and store it in stack\n",
    "\n",
    "print(type(stack))\n",
    "print(stack.dtype)\n",
    "print(stack.shape)"
   ]
  },
  {
   "cell_type": "markdown",
   "id": "8f47a007-597f-4d6b-a692-6437f85ac71f",
   "metadata": {},
   "source": [
    "## <mark style=\"color: black; background-color: rgb(127,196,125); padding: 3px; border-radius: 5px;\">3. View images using `ndv`</mark>\n",
    "```ndv``` documentation: https://pyapp-kit.github.io/ndv/latest/  \n",
    "Reminder: we import ```ndv``` using \n",
    "```python\n",
    "import ndv\n",
    "```"
   ]
  },
  {
   "cell_type": "code",
   "execution_count": null,
   "id": "577f7050-312b-4381-8f43-a273f51d7e6e",
   "metadata": {
    "tags": [
     "teacher"
    ]
   },
   "outputs": [],
   "source": [
    "ndv.imshow(stack)"
   ]
  },
  {
   "cell_type": "markdown",
   "id": "e3c324c5",
   "metadata": {},
   "source": [
    "***"
   ]
  },
  {
   "cell_type": "markdown",
   "id": "6bd31864-a0ca-412c-8c35-06e9af8fddb6",
   "metadata": {},
   "source": [
    "## <mark style=\"color: black; background-color: rgb(127,196,125); padding: 3px; border-radius: 5px;\">4. ```numpy``` arrays - intro, indexing and slicing</mark>"
   ]
  },
  {
   "cell_type": "markdown",
   "id": "e9da4fb2-8f47-45dd-aee9-bff06306fdc4",
   "metadata": {},
   "source": [
    "### <mark style=\"color: black; background-color: rgb(190,223,185); padding: 3px; border-radius: 5px;\">4.1 Load an image</mark>"
   ]
  },
  {
   "cell_type": "markdown",
   "id": "24fbaea9-49b0-4798-8795-4ddf840f86eb",
   "metadata": {},
   "source": [
    "We load the image ```cateye_nonsquare_ds.tif``` using ```tifffile```. "
   ]
  },
  {
   "cell_type": "code",
   "execution_count": null,
   "id": "9b652691-1f54-4914-b72f-3d591acbc6cb",
   "metadata": {},
   "outputs": [],
   "source": [
    "cat_img_path = \"../../_static/images/python4bia/cateye_nonsquare_ds.tif\"\n",
    "cat = tifffile.imread(cat_img_path)"
   ]
  },
  {
   "cell_type": "markdown",
   "id": "5e446998-b17f-4675-8541-4ef632ba4e7c",
   "metadata": {},
   "source": [
    "### <mark style=\"color: black; background-color: rgb(190,223,185); padding: 3px; border-radius: 5px;\">4.2 Inspecting ```numpy``` arrays</mark>"
   ]
  },
  {
   "cell_type": "markdown",
   "id": "9ed08c3f-123d-4237-a71a-a908626be4c5",
   "metadata": {},
   "source": [
    "#### Inspecting raw intensity values"
   ]
  },
  {
   "cell_type": "markdown",
   "id": "3f304a89-ecc0-47e1-967f-05632465320f",
   "metadata": {},
   "source": [
    "Remember, the image is now a ```numpy``` array.  "
   ]
  },
  {
   "cell_type": "code",
   "execution_count": null,
   "id": "f6391c52",
   "metadata": {},
   "outputs": [],
   "source": [
    "type(cat)"
   ]
  },
  {
   "cell_type": "markdown",
   "id": "566d3c23",
   "metadata": {},
   "source": [
    "The simplest way of viewing its intensity values is by running the following cell:   "
   ]
  },
  {
   "cell_type": "code",
   "execution_count": null,
   "id": "5d9ce98e-e2d1-4a9b-bc50-1cff0f77d180",
   "metadata": {},
   "outputs": [],
   "source": [
    "cat"
   ]
  },
  {
   "cell_type": "markdown",
   "id": "5ce2d3ff",
   "metadata": {},
   "source": [
    "Reminder: we use an alternative print function to print rich text.  \n",
    "We import it using: \n",
    "```python\n",
    "from rich import print\n",
    "```"
   ]
  },
  {
   "cell_type": "code",
   "execution_count": null,
   "id": "428fa62f-65a2-4825-adaf-cffdeac98211",
   "metadata": {},
   "outputs": [],
   "source": [
    "print(cat)"
   ]
  },
  {
   "cell_type": "markdown",
   "id": "9355e7e7-ec16-4e40-877a-988914ec10b1",
   "metadata": {},
   "source": [
    "### <mark style=\"color: black; background-color: rgb(190,223,185); padding: 3px; border-radius: 5px;\">4.3 Inspecting properties of the image</mark>"
   ]
  },
  {
   "cell_type": "markdown",
   "id": "a28e8e76-a582-410b-9a48-2445e929c0a2",
   "metadata": {},
   "source": [
    "Let's print a few properties of ```cat```"
   ]
  },
  {
   "cell_type": "code",
   "execution_count": null,
   "id": "5d5f72d3-1a7b-4f67-b3f8-86d994019ca6",
   "metadata": {},
   "outputs": [],
   "source": [
    "print(f\"Type of the image: {type(cat)}\")\n",
    "print(f\"Datatype of the image: {cat.dtype}\")\n",
    "print(f\"Shape of the image: {cat.shape}\")  # Dimensions of the image\n",
    "print(f\"Minimum pixel value: {cat.min()}\")  # Min pixel value\n",
    "print(f\"Maximum pixel value: {cat.max()}\")  # Max pixel value\n",
    "print(f\"Mean pixel value: {cat.mean():.2f}\")  # Average pixel value"
   ]
  },
  {
   "cell_type": "markdown",
   "id": "3c9eae31-cb6c-4704-bcf7-7b6043d0bd6e",
   "metadata": {},
   "source": [
    "### <mark style=\"color: black; background-color: rgb(190,223,185); padding: 3px; border-radius: 5px;\">4.4 Generate a simple plot of the image</mark>\n",
    "Reminder: we import ```plt``` using  \n",
    "\n",
    "```python\n",
    "import matplotlib.pyplot as plt\n",
    "```"
   ]
  },
  {
   "cell_type": "markdown",
   "id": "8ee0c633-53db-4873-b326-2db457534f2e",
   "metadata": {},
   "source": [
    "#### Plot using ```plt.imshow()``` "
   ]
  },
  {
   "cell_type": "markdown",
   "id": "41ff5126-e53c-4d6d-ab04-9103b98a4c07",
   "metadata": {},
   "source": [
    "### <mark style=\"color: black; background-color: rgb(252,185,118); padding: 3px; border-radius: 5px;\">✍️ Exercise: Code along </mark>"
   ]
  },
  {
   "cell_type": "code",
   "execution_count": null,
   "id": "ef165a00-8fac-4148-a78b-c71df0a44f92",
   "metadata": {
    "tags": [
     "teacher"
    ]
   },
   "outputs": [],
   "source": [
    "plt.imshow(cat, cmap=\"gray\")\n",
    "plt.colorbar()\n",
    "plt.show()"
   ]
  },
  {
   "cell_type": "markdown",
   "id": "9c26f89e-a023-42e0-8e8e-ae578eaf2c6f",
   "metadata": {},
   "source": [
    "### <mark style=\"color: black; background-color: rgb(252,185,118); padding: 3px; border-radius: 5px;\">✍️ Exercise: Write a plotting function</mark>\n",
    "Write the previous plotting code as a function"
   ]
  },
  {
   "cell_type": "code",
   "execution_count": null,
   "id": "440d8048-d772-4f86-85ae-45596eb21805",
   "metadata": {
    "tags": [
     "teacher"
    ]
   },
   "outputs": [],
   "source": [
    "def simpleplot(image: np.ndarray) -> None:\n",
    "    \"\"\"\n",
    "    Plot `image` in grayscale with an accompanying colorbar.\n",
    "\n",
    "    Parameters\n",
    "    ----------\n",
    "    image : A 2D np.ndarray\n",
    "    \"\"\"\n",
    "    plt.imshow(image, cmap=\"gray\")\n",
    "    plt.colorbar()\n",
    "    plt.show()"
   ]
  },
  {
   "cell_type": "code",
   "execution_count": null,
   "id": "ef196648-3269-47fb-8516-f6722af13221",
   "metadata": {},
   "outputs": [],
   "source": [
    "simpleplot(cat)"
   ]
  },
  {
   "cell_type": "markdown",
   "id": "9b41a933-335b-4d28-972a-d74a1e5d226a",
   "metadata": {},
   "source": [
    "### <mark style=\"color: black; background-color: rgb(190,223,185); padding: 3px; border-radius: 5px;\">4.5 Plot a simple histogram</mark>"
   ]
  },
  {
   "cell_type": "code",
   "execution_count": null,
   "id": "23d233ac-d58f-47a5-92e4-d3c27e9ebbb9",
   "metadata": {
    "tags": [
     "hide-cell"
    ]
   },
   "outputs": [],
   "source": [
    "def valueplot(image: np.ndarray, indices: str = \"empty\", fontsize: int = 10) -> None:\n",
    "    \"\"\"\n",
    "    Show a 2-D array as a grayscale heat-map, print each pixel's value on top,\n",
    "    and optionally outline pixels or regions.\n",
    "\n",
    "    Parameters\n",
    "    ----------\n",
    "    image : np.ndarray\n",
    "        Array of shape (rows, cols).\n",
    "    indices : str, optional\n",
    "        String with numpy indexing notation using either brackets [] or parentheses ().\n",
    "\n",
    "        Examples:\n",
    "        - \"(5, 3)\" or \"[5, 3]\" - single pixel\n",
    "        - \"[0:5, 3:7]\" or \"(0:5, 3:7)\" - region from rows 0-4, columns 3-6\n",
    "        - \"(:, 0)\" or \"[:, 0]\" - entire column 0\n",
    "        - \"(2, :)\" or \"[2, :]\" - entire row 2\n",
    "        - \"[:,:]\" - entire image\n",
    "        - \"[::2, 1::3]\" - every 2nd row, every 3rd column starting from column 1\n",
    "    \"\"\"\n",
    "\n",
    "    if indices == \"empty\":\n",
    "        indices = \"[0:0, 0:0]\"\n",
    "\n",
    "    def parse_index_string(index_str: str) -> tuple:\n",
    "        \"\"\"Parse numpy-style indexing string into tuple of slices/ints.\"\"\"\n",
    "        # Remove brackets and parentheses\n",
    "        index_str = index_str.strip()\n",
    "        if index_str.startswith(\"[\") and index_str.endswith(\"]\"):\n",
    "            index_str = index_str[1:-1]\n",
    "        elif index_str.startswith(\"(\") and index_str.endswith(\")\"):\n",
    "            index_str = index_str[1:-1]\n",
    "\n",
    "        # Split by comma\n",
    "        parts = [part.strip() for part in index_str.split(\",\")]\n",
    "\n",
    "        if len(parts) != 2:\n",
    "            raise ValueError(\n",
    "                \"Index string must have exactly 2 parts separated by comma\"\n",
    "            )\n",
    "\n",
    "        result = []\n",
    "        for part in parts:\n",
    "            if part == \":\" or part == \"\":\n",
    "                # Full slice\n",
    "                result.append(slice(None))\n",
    "            elif \":\" in part:\n",
    "                # Parse slice notation\n",
    "                slice_parts = part.split(\":\")\n",
    "                start = None if slice_parts[0] == \"\" else int(slice_parts[0])\n",
    "                stop = (\n",
    "                    None\n",
    "                    if len(slice_parts) < 2 or slice_parts[1] == \"\"\n",
    "                    else int(slice_parts[1])\n",
    "                )\n",
    "                step = (\n",
    "                    None\n",
    "                    if len(slice_parts) < 3 or slice_parts[2] == \"\"\n",
    "                    else int(slice_parts[2])\n",
    "                )\n",
    "                result.append(slice(start, stop, step))\n",
    "            else:\n",
    "                # Single integer\n",
    "                result.append(int(part))\n",
    "\n",
    "        return tuple(result)\n",
    "\n",
    "    if indices is None:\n",
    "        indices = [None, None]\n",
    "    else:\n",
    "        # Parse string notation\n",
    "        indices = parse_index_string(indices)\n",
    "\n",
    "    plt.imshow(image, cmap=\"gray\", vmin=np.min(image), vmax=np.max(image))\n",
    "\n",
    "    # Annotate each pixel with its value\n",
    "    for i in range(image.shape[0]):  # row\n",
    "        for j in range(image.shape[1]):  # column\n",
    "            plt.text(\n",
    "                j,\n",
    "                i,\n",
    "                str(image[i, j]),\n",
    "                ha=\"center\",\n",
    "                va=\"center\",\n",
    "                color=\"magenta\",\n",
    "                fontsize=fontsize,\n",
    "            )\n",
    "\n",
    "    plt.ylabel(\"row; y; axis = 0\", fontsize=fontsize)\n",
    "    plt.xlabel(\"column; x; axis = 1\", fontsize=fontsize)\n",
    "\n",
    "    # Handle different types of indices\n",
    "    if indices is not None and len(indices) == 2:\n",
    "        row_idx, col_idx = indices\n",
    "\n",
    "        # Convert indices to ranges for highlighting\n",
    "        if isinstance(row_idx, slice):\n",
    "            # Handle slice objects\n",
    "            start_row = row_idx.start if row_idx.start is not None else 0\n",
    "            stop_row = row_idx.stop if row_idx.stop is not None else image.shape[0]\n",
    "            step_row = row_idx.step if row_idx.step is not None else 1\n",
    "\n",
    "            if start_row < 0:\n",
    "                start_row = image.shape[0] + start_row\n",
    "            if stop_row < 0:\n",
    "                stop_row = image.shape[0] + stop_row\n",
    "            row_range = list(range(start_row, min(stop_row, image.shape[0]), step_row))\n",
    "        elif isinstance(row_idx, int):\n",
    "            # Single row\n",
    "            if row_idx < 0:\n",
    "                row_idx = image.shape[0] + row_idx\n",
    "            row_range = [row_idx] if 0 <= row_idx < image.shape[0] else []\n",
    "        else:\n",
    "            row_range = list(range(image.shape[0]))  # All rows if None or invalid\n",
    "\n",
    "        if isinstance(col_idx, slice):\n",
    "            # Handle slice objects\n",
    "            start_col = col_idx.start if col_idx.start is not None else 0\n",
    "            stop_col = col_idx.stop if col_idx.stop is not None else image.shape[1]\n",
    "            step_col = col_idx.step if col_idx.step is not None else 1\n",
    "\n",
    "            if start_col < 0:\n",
    "                start_col = image.shape[1] + start_col\n",
    "            if stop_col < 0:\n",
    "                stop_col = image.shape[1] + stop_col\n",
    "            col_range = list(range(start_col, min(stop_col, image.shape[1]), step_col))\n",
    "        elif isinstance(col_idx, int):\n",
    "            # Single column\n",
    "            if col_idx < 0:\n",
    "                col_idx = image.shape[1] + col_idx\n",
    "            col_range = [col_idx] if 0 <= col_idx < image.shape[1] else []\n",
    "        else:\n",
    "            col_range = list(range(image.shape[1]))  # All columns if None or invalid\n",
    "\n",
    "        # Highlight the region\n",
    "        for row in row_range:\n",
    "            for col in col_range:\n",
    "                rect = plt.Rectangle(\n",
    "                    (col - 0.5, row - 0.5),\n",
    "                    1,\n",
    "                    1,\n",
    "                    linewidth=2,\n",
    "                    edgecolor=\"yellow\",\n",
    "                    facecolor=\"none\",\n",
    "                )\n",
    "                plt.gca().add_patch(rect)\n",
    "\n",
    "    plt.yticks(list(range(image.shape[0])))\n",
    "    plt.xticks(list(range(image.shape[1])))\n",
    "    plt.tight_layout()\n",
    "    plt.show()"
   ]
  },
  {
   "cell_type": "markdown",
   "id": "ecc6793c",
   "metadata": {},
   "source": [
    "### <mark style=\"color: black; background-color: rgb(252,185,118); padding: 3px; border-radius: 5px;\">✍️ Exercise: Code along </mark>"
   ]
  },
  {
   "cell_type": "code",
   "execution_count": null,
   "id": "29f115be-5a8c-47d3-8e7f-ca41542861c4",
   "metadata": {
    "tags": [
     "teacher"
    ]
   },
   "outputs": [],
   "source": [
    "plt.hist(cat.ravel(), bins=256, color=\"k\")\n",
    "plt.xlabel(f\"Gray value {cat.dtype}\")  # format string\n",
    "plt.ylabel(\"count\")"
   ]
  },
  {
   "cell_type": "markdown",
   "id": "c8cfbd95",
   "metadata": {},
   "source": [
    "***"
   ]
  },
  {
   "cell_type": "markdown",
   "id": "eebe7010-dbaf-46dc-a54f-792f572bcc47",
   "metadata": {},
   "source": [
    "### <mark style=\"color: black; background-color: rgb(190,223,185); padding: 3px; border-radius: 5px;\">4.6 Indexing: individual entries</mark>"
   ]
  },
  {
   "cell_type": "markdown",
   "id": "726ffff7",
   "metadata": {},
   "source": [
    "In this 2D array, the first number indexes axis 0. The second number indexes axis 1.  \n",
    "\n",
    "|first entry| second entry|\n",
    "| ------ | ------- |\n",
    "| axis 0 | axis 1 |\n",
    "| row    | column |"
   ]
  },
  {
   "cell_type": "code",
   "execution_count": null,
   "id": "48b3ed72-7f3e-448c-bb39-18096f434e31",
   "metadata": {},
   "outputs": [],
   "source": [
    "# Pass numbers directly\n",
    "print(cat[0, 10])"
   ]
  },
  {
   "cell_type": "markdown",
   "id": "47d10567-1e47-4d0f-90bd-d14f838f6c5a",
   "metadata": {},
   "source": [
    "Tip: We can pass variables instead of numbers if the same indices are to be reused: "
   ]
  },
  {
   "cell_type": "code",
   "execution_count": null,
   "id": "38e6467c",
   "metadata": {},
   "outputs": [],
   "source": [
    "# Define variables\n",
    "row, col = 0, 10\n",
    "print(cat[row, col])"
   ]
  },
  {
   "cell_type": "markdown",
   "id": "0edbbc1d-7bcf-47a2-9dce-e37e4fb15c17",
   "metadata": {},
   "source": [
    "### <mark style=\"color: black; background-color: rgb(252,185,118); padding: 3px; border-radius: 5px;\">✍️ Exercise: Enter different values for ```row``` and ```col```: </mark>\n",
    "```valueplot``` is a costumn function that visualizes indices provided as strings "
   ]
  },
  {
   "cell_type": "code",
   "execution_count": null,
   "id": "0d5a0654-8fef-450e-8998-b225ea3117db",
   "metadata": {},
   "outputs": [],
   "source": [
    "row, col = 0, -2\n",
    "valueplot(cat, indices=str([row, col]))"
   ]
  },
  {
   "cell_type": "markdown",
   "id": "8f081ff5-9850-48a3-901f-bd7437c760c2",
   "metadata": {},
   "source": [
    "### <mark style=\"color: black; background-color: rgb(190,223,185); padding: 3px; border-radius: 5px;\">4.7 Indexing: Rows and columns</mark>"
   ]
  },
  {
   "cell_type": "markdown",
   "id": "0dd1cab6-72cf-4975-b99a-8a1781c23b1d",
   "metadata": {},
   "source": [
    "#### Rows"
   ]
  },
  {
   "cell_type": "code",
   "execution_count": null,
   "id": "f8a01117-592c-42cf-850d-e44fb6989c8d",
   "metadata": {},
   "outputs": [],
   "source": [
    "row = 1\n",
    "print(cat[row, :])  #\n",
    "print(cat[row,])  # This is equivalent to the above\n",
    "print(cat[row])  # If only one number is supplied, it applies to axis 0"
   ]
  },
  {
   "cell_type": "markdown",
   "id": "a3094902",
   "metadata": {},
   "source": [
    "#### Columns"
   ]
  },
  {
   "cell_type": "markdown",
   "id": "aa73742b",
   "metadata": {},
   "source": [
    "### <mark style=\"color: black; background-color: rgb(252,185,118); padding: 3px; border-radius: 5px;\">✍️ Exercise: Uncomment the cell below and run it. </mark>\n",
    "If there's an error, can we fix it by adding one symbol only? "
   ]
  },
  {
   "cell_type": "code",
   "execution_count": null,
   "id": "c91eb0a5",
   "metadata": {},
   "outputs": [],
   "source": [
    "# print(cat[1, ]) # Tries to print the first row\n",
    "# print(cat[, 1]) # Tries to print the first column"
   ]
  },
  {
   "cell_type": "markdown",
   "id": "32409745",
   "metadata": {},
   "source": [
    "### <mark style=\"color: black; background-color: rgb(252,185,118); padding: 3px; border-radius: 5px;\">✍️ Exercise: Highlight either a full row or a full column</mark>\n",
    "Experiment with different entries. "
   ]
  },
  {
   "cell_type": "code",
   "execution_count": null,
   "id": "82c3b6e6",
   "metadata": {},
   "outputs": [],
   "source": [
    "valueplot(cat, indices=\"[:, 1]\")"
   ]
  },
  {
   "cell_type": "markdown",
   "id": "d26c5f81-805c-4c51-9643-2d083534dda0",
   "metadata": {},
   "source": [
    "### <mark style=\"color: black; background-color: rgb(252,185,118); padding: 3px; border-radius: 5px;\">✍️ Exercise: </mark>\n",
    "Highlight these values using function ```valueplot()```\n",
    "\n",
    "<img align=\"center\" src=\"https://raw.githubusercontent.com/HMS-IAC/bobiac/main/_static/images/python4bia/figures/python4bia_print_values.png\" alt=\"Highlight these values\" width=\"300px\">"
   ]
  },
  {
   "cell_type": "markdown",
   "id": "9a0d6e0c",
   "metadata": {},
   "source": []
  },
  {
   "cell_type": "code",
   "execution_count": null,
   "id": "82e48739-fd21-46b0-944e-5041cc707582",
   "metadata": {
    "tags": [
     "teacher"
    ]
   },
   "outputs": [],
   "source": [
    "valueplot(cat, \"[4:6, 5]\")"
   ]
  },
  {
   "cell_type": "markdown",
   "id": "6e6ef5b2-046d-4930-991c-bcb6888fa28b",
   "metadata": {},
   "source": [
    "### <mark style=\"color: black; background-color: rgb(190,223,185); padding: 3px; border-radius: 5px;\">4.8 Modifying intensity values using indexing </mark>"
   ]
  },
  {
   "cell_type": "markdown",
   "id": "57c3b3d4-458e-440b-995c-8b77d842583a",
   "metadata": {},
   "source": [
    "### <mark style=\"color: black; background-color: rgb(252,185,118); padding: 3px; border-radius: 5px;\">✍️ Exercise: Make a copy of ```cat```, and name it ```lazercat``` (new variable). Assign a value of 255 to the indicated pixels</mark>"
   ]
  },
  {
   "cell_type": "code",
   "execution_count": null,
   "id": "a5c7912a-5d1f-42ca-8be5-a89434dead41",
   "metadata": {
    "tags": [
     "teacher"
    ]
   },
   "outputs": [],
   "source": [
    "### Pitfall\n",
    "lazercat = cat\n",
    "lazercat[4:6, 5] = 255\n",
    "simpleplot(cat)"
   ]
  },
  {
   "cell_type": "markdown",
   "id": "c63e8f0c-e926-49ae-81ea-01d6df70f5d8",
   "metadata": {},
   "source": [
    "### <mark style=\"color: black; background-color: rgb(252,185,118); padding: 3px; border-radius: 5px;\">✍️ Exercise: Inspect the pixelvalues of ```cat``` and ```lazercat``` ```using simpleplot()```</mark>"
   ]
  },
  {
   "cell_type": "code",
   "execution_count": null,
   "id": "377447eb-8fd5-4d9e-a11a-f780e5282441",
   "metadata": {},
   "outputs": [],
   "source": [
    "simpleplot(cat)\n",
    "simpleplot(lazercat)"
   ]
  },
  {
   "cell_type": "code",
   "execution_count": null,
   "id": "7af86a5a-cd8b-4df1-a5c6-59a251835689",
   "metadata": {
    "tags": [
     "teacher"
    ]
   },
   "outputs": [],
   "source": [
    "# reload cat in case it was overwritten\n",
    "def load_cat(cat_img_path) -> np.ndarray:\n",
    "    cat = tifffile.imread(cat_img_path)\n",
    "    return cat\n",
    "\n",
    "\n",
    "cat = load_cat(cat_img_path)"
   ]
  },
  {
   "cell_type": "code",
   "execution_count": null,
   "id": "ae9e3d57-28ab-4f7f-875a-3d564d368dad",
   "metadata": {
    "tags": [
     "teacher"
    ]
   },
   "outputs": [],
   "source": [
    "lazercat = cat.copy()\n",
    "lazercat[4:6, 5] = 255"
   ]
  },
  {
   "cell_type": "code",
   "execution_count": null,
   "id": "946ccd98-6726-489d-8491-7d889af89ad8",
   "metadata": {
    "tags": [
     "teacher"
    ]
   },
   "outputs": [],
   "source": [
    "simpleplot(cat)\n",
    "simpleplot(lazercat)"
   ]
  },
  {
   "attachments": {},
   "cell_type": "markdown",
   "id": "f627769f-a1cd-4820-b257-9fcfe505c806",
   "metadata": {},
   "source": [
    "### <mark style=\"color: black; background-color: rgb(252,185,118); padding: 3px; border-radius: 5px;\">✍️ Exercise: Make a copy of ```cat``` and name it ```pirate```. Assign to all pixels but the rim-pixels a value of 0. Plot to verify!</mark>"
   ]
  },
  {
   "cell_type": "code",
   "execution_count": null,
   "id": "a09cfa4c-d2ac-4913-853b-748511c5bdf0",
   "metadata": {},
   "outputs": [],
   "source": [
    "# cat = load_cat(cat_img_path) # Run if you accidentally overwrote ```cat```"
   ]
  },
  {
   "cell_type": "code",
   "execution_count": null,
   "id": "0cdb27f4-3ea3-4e2d-9983-51c8417d0fe3",
   "metadata": {
    "tags": [
     "teacher"
    ]
   },
   "outputs": [],
   "source": [
    "pirate = cat.copy()\n",
    "pirate[1:-1, 1:-1] = 0\n",
    "simpleplot(pirate)"
   ]
  },
  {
   "cell_type": "markdown",
   "id": "f1f3cbd5",
   "metadata": {},
   "source": [
    "### <mark style=\"color: black; background-color: rgb(190,223,185); padding: 3px; border-radius: 5px;\">4.9 Boolean indexing</mark>"
   ]
  },
  {
   "cell_type": "code",
   "execution_count": null,
   "id": "89e13bc7",
   "metadata": {
    "tags": [
     "hide-cell"
    ]
   },
   "outputs": [],
   "source": [
    "monocle_bool = np.array(cat, dtype=bool)\n",
    "monocle_bool[0, :] = False\n",
    "monocle_bool[-1, :] = False\n",
    "monocle_bool[:, 0] = False\n",
    "monocle_bool[:, -1] = False\n",
    "monocle_bool = ~monocle_bool"
   ]
  },
  {
   "cell_type": "markdown",
   "id": "e79f2928",
   "metadata": {},
   "source": [
    "```monocle_bool``` is a 2D numpy array of the same dimensions as ```cat```.  \n",
    "Instead of integer intensity values, its pixel-values are either ```True``` or ```False```.  \n",
    "Let's inspect ```monocle_bool```"
   ]
  },
  {
   "cell_type": "code",
   "execution_count": null,
   "id": "72456ced",
   "metadata": {},
   "outputs": [],
   "source": [
    "print(monocle_bool.dtype)\n",
    "print(monocle_bool.shape)\n",
    "valueplot(monocle_bool)"
   ]
  },
  {
   "cell_type": "markdown",
   "id": "1697f302-e881-4217-9f14-634ac060e7f5",
   "metadata": {},
   "source": [
    "### <mark style=\"color: black; background-color: rgb(252,185,118); padding: 3px; border-radius: 5px;\">✍️ Exercise: ```monocle``` is a copy of ```cat```. Use ```monocle_bool``` to assign a value of 0 to the rim pixels of ```monocle```. Plot to verify</mark>"
   ]
  },
  {
   "cell_type": "code",
   "execution_count": null,
   "id": "9f319761-04f3-43b1-99f2-09dcf7e92312",
   "metadata": {},
   "outputs": [],
   "source": [
    "# cat = load_cat(cat_img_path) # Run if you accidentally overwrote ```cat```"
   ]
  },
  {
   "cell_type": "code",
   "execution_count": null,
   "id": "f7a43f1f",
   "metadata": {},
   "outputs": [],
   "source": [
    "monocle = cat.copy()"
   ]
  },
  {
   "cell_type": "markdown",
   "id": "e1732ddb",
   "metadata": {},
   "source": [
    "**Tip:**  \n",
    "<img align=\"center\" src=\"https://raw.githubusercontent.com/HMS-IAC/bobiac/main/_static/images/python4bia/figures/boolean_indexing.png\" alt=\"boolean_indexing_tip\" width=\"800px\">"
   ]
  },
  {
   "cell_type": "code",
   "execution_count": null,
   "id": "e3278e09-9dd4-4232-8ee5-4dafc82fdd9a",
   "metadata": {
    "tags": [
     "teacher"
    ]
   },
   "outputs": [],
   "source": [
    "monocle[monocle_bool] = 0  # Set rim pixels to 0\n",
    "simpleplot(monocle)"
   ]
  },
  {
   "cell_type": "markdown",
   "id": "b530dc44",
   "metadata": {},
   "source": [
    "***"
   ]
  },
  {
   "cell_type": "markdown",
   "id": "18772a6c-0dde-4276-8f34-907b7a61240a",
   "metadata": {},
   "source": [
    "## <mark style=\"color: black; background-color: rgb(127,196,125); padding: 3px; border-radius: 5px;\">5. ```numpy``` and multichannel/z-stacks</mark>\n"
   ]
  },
  {
   "cell_type": "markdown",
   "id": "967f66cb-e371-4bef-8cd8-1c8b89f7eca1",
   "metadata": {},
   "source": [
    "#### Reminder: Previously, we loaded a 2-channel z-stack and named it ```stack``` \n",
    "\n",
    "```Python \n",
    "stack = tifffile.imread(stack_path)\n",
    "```"
   ]
  },
  {
   "cell_type": "code",
   "execution_count": null,
   "id": "2fe5ac38-cba7-4a9e-81ae-31d04dfeb77c",
   "metadata": {},
   "outputs": [],
   "source": [
    "# Here, we define a function to read the stack from a specified path\n",
    "def read_stack(\n",
    "    path: str = stack_path,\n",
    ") -> np.ndarray:\n",
    "    stack = tifffile.imread(path)\n",
    "    return stack"
   ]
  },
  {
   "cell_type": "code",
   "execution_count": null,
   "id": "4d3a2a9d-3aaf-4719-b95d-4bf492433556",
   "metadata": {},
   "outputs": [],
   "source": [
    "stack = read_stack(\n",
    "    stack_path\n",
    ")  # reloads image \"stack\". Run this if you accidentally overwrote `stack`"
   ]
  },
  {
   "cell_type": "code",
   "execution_count": null,
   "id": "9f3bd3f5-435e-49ec-9311-a17347e465f6",
   "metadata": {},
   "outputs": [],
   "source": [
    "print(stack.dtype)\n",
    "print(stack.shape)"
   ]
  },
  {
   "cell_type": "markdown",
   "id": "3c2ff86e-1a20-41de-99b2-4ac7bac06f6d",
   "metadata": {},
   "source": [
    "#### Reminder: We can use ```ndv``` to inspect an image"
   ]
  },
  {
   "cell_type": "code",
   "execution_count": null,
   "id": "b9c0d98e-f4a0-473a-98f8-126c29661056",
   "metadata": {
    "tags": []
   },
   "outputs": [],
   "source": [
    "ndv.imshow(stack)"
   ]
  },
  {
   "cell_type": "markdown",
   "id": "3c0763e4-8eee-4de7-8a99-fb1721d71e09",
   "metadata": {},
   "source": [
    "### <mark style=\"color: black; background-color: rgb(252,185,118); padding: 3px; border-radius: 5px;\">✍️ Exercise: Create a numpy array ```ch0``` that contains the first channel of ```stack```</mark>\n",
    "**Bonus**: Create a numpy array ```ch1``` that contains the second channel of ```stack```.  \n",
    "**Note**: This is 0-indexed!"
   ]
  },
  {
   "cell_type": "code",
   "execution_count": null,
   "id": "6958d4d6",
   "metadata": {},
   "outputs": [],
   "source": [
    "# Reminder\n",
    "stack.shape"
   ]
  },
  {
   "cell_type": "code",
   "execution_count": null,
   "id": "476d52f2-c684-4011-8392-e93af6a4dca9",
   "metadata": {
    "tags": [
     "teacher"
    ]
   },
   "outputs": [],
   "source": [
    "ch0 = stack[:, 0].copy()\n",
    "ch1 = stack[:, 1].copy()"
   ]
  },
  {
   "cell_type": "code",
   "execution_count": null,
   "id": "2b4c4ecf-5128-46c2-9dc4-c6ea4a371cf2",
   "metadata": {},
   "outputs": [],
   "source": [
    "print(ch0.shape)"
   ]
  },
  {
   "cell_type": "markdown",
   "id": "87df6705-5971-4ac9-a3e8-f80d96cbc35d",
   "metadata": {},
   "source": [
    "### <mark style=\"color: black; background-color: rgb(252,185,118); padding: 3px; border-radius: 5px;\">✍️ Exercise: plot ```ch0``` using function ```simpleplot()```</mark>"
   ]
  },
  {
   "cell_type": "code",
   "execution_count": null,
   "id": "35e75e6e-a8c2-4711-b669-853d311f21ce",
   "metadata": {
    "scrolled": true,
    "tags": [
     "teacher"
    ]
   },
   "outputs": [],
   "source": [
    "## Pitfall:\n",
    "# simpleplot(ch0)"
   ]
  },
  {
   "cell_type": "code",
   "execution_count": null,
   "id": "6e6b87e5-d7f0-4f06-88a3-a2d614a5c45c",
   "metadata": {
    "tags": [
     "teacher"
    ]
   },
   "outputs": [],
   "source": [
    "# simpleplot can only plot a 2D array.\n",
    "# You must index ch0 such that it returns a 2D array. Examples:\n",
    "z = 17\n",
    "\n",
    "simpleplot(ch0[z])  # show only one z-plane"
   ]
  },
  {
   "cell_type": "markdown",
   "id": "b1237542-ec85-4965-ae07-c7d2416aa09f",
   "metadata": {},
   "source": [
    "### <mark style=\"color: black; background-color: rgb(252,185,118); padding: 3px; border-radius: 5px;\">✍️ Exercise: **Create a mean-projection of channel `ch0`**</mark>\n",
    "\n",
    "**Objective**  \n",
    "Convert the 3-D stack `ch0` (shape `(Z, 400, 400)`) into a 2-D image by averaging over its *z*-planes.\n",
    "\n",
    "\n",
    "\n",
    "Quick reference [numpy.mean](https://numpy.org/doc/stable/reference/generated/numpy.mean.html): \n",
    "\n",
    "\n",
    "```python\n",
    "numpy.mean(a, axis=None, dtype=None, out=None, keepdims=<no value>, *, where=<no value>)\n",
    "\n",
    "```\n",
    "\n",
    "**a** (`array_like`) – Array containing numbers whose mean is desired. If **a** is not an array, a conversion is attempted.  \n",
    "**axis** (`int`, `tuple[int]`, or `None`) – Axis or axes along which the means are computed. The default is to compute the mean of the flattened array."
   ]
  },
  {
   "cell_type": "code",
   "execution_count": null,
   "id": "d6525540-8862-43a7-883e-9d2ad7a7cd81",
   "metadata": {},
   "outputs": [],
   "source": [
    "# mean_project_ch0 = ...  # fill in the gaps\n",
    "# print(mean_project_ch0.shape)\n",
    "# simpleplot(mean_project_ch0)"
   ]
  },
  {
   "cell_type": "code",
   "execution_count": null,
   "id": "3421c330-6052-45c1-921a-08cc615929d6",
   "metadata": {
    "tags": [
     "teacher"
    ]
   },
   "outputs": [],
   "source": [
    "mean_project_ch0 = np.mean(ch0, axis=0)\n",
    "print(mean_project_ch0.shape)\n",
    "simpleplot(mean_project_ch0)"
   ]
  },
  {
   "cell_type": "markdown",
   "id": "91f65619-5fe3-4fa9-b72a-9edfe7f6e721",
   "metadata": {},
   "source": [
    "### <mark style=\"color: black; background-color: rgb(252,185,118); padding: 3px; border-radius: 5px;\">✍️ Exercise: compute the max projection of ```ch0```</mark>\n",
    "Collapse ```ch0``` into a 2D image by only displaying the maximum value along z. \n",
    "The result should be a (400, 400) array where each value represents the maximum of the all z intensity values at that position.  \n",
    "This is called max projection. \n",
    "\n",
    "https://numpy.org/doc/2.2/reference/generated/numpy.max.html#numpy-max"
   ]
  },
  {
   "cell_type": "code",
   "execution_count": null,
   "id": "ce2b37dc-bfbf-4ad2-b719-a48b8ad2f9f1",
   "metadata": {
    "tags": [
     "teacher"
    ]
   },
   "outputs": [],
   "source": [
    "max_project_ch0 = np.max(ch0, axis=0)\n",
    "print(max_project_ch0.shape)\n",
    "simpleplot(max_project_ch0)"
   ]
  },
  {
   "cell_type": "markdown",
   "id": "7288c862-1209-43a3-b495-a5035bcca27b",
   "metadata": {},
   "source": [
    "### <mark style=\"color: black; background-color: rgb(252,185,118); padding: 3px; border-radius: 5px;\">✍️ Exercise (bonus): Try other ```numpy``` projections</mark>\n",
    "\n",
    "Below are a few operations taken from \n",
    "https://numpy.org/doc/2.2/reference/routines.statistics.html \n",
    "\n",
    "\n",
    "| Category                 | Function        | What it does along an axis         | Example projection (`axis=0`)                                   |\n",
    "| ------------------------ | --------------- | ---------------------------------- | --------------------------------------------------------------- |\n",
    "| **Order statistics**     | `np.percentile` | q-th percentile                    | `p50 = np.percentile(stack, 50, axis=0)` ([numpy.org][1])       |\n",
    "|                          | `np.quantile`   | q-th quantile (fraction 0-1)       | `q25 = np.quantile(stack, 0.25, axis=0)` ([numpy.org][1])       |\n",
    "| **Averages & variances** | `np.median`     | Median                             | `med = np.median(stack, axis=0)` ([numpy.org][1])               |\n",
    "|                          | `np.average`    | Weighted average (pass `weights=`) | `w_avg = np.average(stack, axis=0, weights=w)` ([numpy.org][1]) |\n",
    "|                          | `np.mean`       | Arithmetic mean                    | `mean = np.mean(stack, axis=0)` ([numpy.org][1])                |\n",
    "|                          | `np.std`        | Standard deviation                 | `sigma = np.std(stack, axis=0)` ([numpy.org][1])                |\n",
    "|                          | `np.var`        | Variance                           | `var_map = np.var(stack, axis=0)` ([numpy.org][1])              |\n",
    "\n",
    "[1]: https://numpy.org/doc/stable/reference/routines.statistics.html \"Statistics — NumPy v2.3 Manual\"\n"
   ]
  },
  {
   "cell_type": "code",
   "execution_count": null,
   "id": "c1a9f4f9",
   "metadata": {},
   "outputs": [],
   "source": [
    "# Write your code here"
   ]
  },
  {
   "cell_type": "markdown",
   "id": "18ddc2e3",
   "metadata": {},
   "source": [
    "***"
   ]
  },
  {
   "cell_type": "markdown",
   "id": "8dba404c-f66d-45df-a549-3369f58b48b9",
   "metadata": {},
   "source": [
    "## <mark style=\"color: black; background-color: rgb(127,196,125); padding: 3px; border-radius: 5px;\">6. Generating ```numpy``` arrays</mark>"
   ]
  },
  {
   "cell_type": "markdown",
   "id": "f2e9c269-83aa-41c4-a238-64ed2a9e7b63",
   "metadata": {},
   "source": [
    "There are many reasons to generate ```numpy``` arrays \n",
    "* We may need it as a basis for further computations\n",
    "* We want to generate dummy data to test functions, etc "
   ]
  },
  {
   "cell_type": "markdown",
   "id": "a880786b-8fc6-431c-84ca-1a6af3b13d61",
   "metadata": {},
   "source": [
    "### <mark style=\"color: black; background-color: rgb(190,223,185); padding: 3px; border-radius: 5px;\">Create an array of filled with 0s with shape [5, 5]</mark>"
   ]
  },
  {
   "cell_type": "code",
   "execution_count": null,
   "id": "c5b781a8-12db-428f-b2b9-29098b85c0eb",
   "metadata": {},
   "outputs": [],
   "source": [
    "zero_array = np.zeros([5, 5])\n",
    "print(zero_array)\n",
    "zero_array.dtype"
   ]
  },
  {
   "cell_type": "markdown",
   "id": "67282369-b48d-44bb-8394-0353645575f8",
   "metadata": {},
   "source": [
    "### <mark style=\"color: black; background-color: rgb(190,223,185); padding: 3px; border-radius: 5px;\">Generate an array of zeroes that has the same properties as ```cat```</mark>"
   ]
  },
  {
   "cell_type": "code",
   "execution_count": null,
   "id": "76919c6e-1d5d-4c42-8097-32543d0de584",
   "metadata": {},
   "outputs": [],
   "source": [
    "zeroes_cat = np.zeros_like(cat)"
   ]
  },
  {
   "cell_type": "code",
   "execution_count": null,
   "id": "61505c1b-6763-4e3c-9f20-14bed6ccca95",
   "metadata": {},
   "outputs": [],
   "source": [
    "print(zeroes_cat)\n",
    "print(zeroes_cat.shape)\n",
    "print(zeroes_cat.dtype)"
   ]
  },
  {
   "cell_type": "markdown",
   "id": "9f6dbb04-8527-4de8-8316-14ec1526e64a",
   "metadata": {},
   "source": [
    "### <mark style=\"color: black; background-color: rgb(252,185,118); padding: 3px; border-radius: 5px;\">✍️ Exercise: Code along: simulate a multichannel image</mark>\n",
    "* Call it ```dual_ch_fake```\n",
    "* Of shape [2,9,10]\n",
    "* dtype is ```np.uint8```\n",
    "* Each pixel has a random value between 0 (inclusive) and 256 (exclusive)"
   ]
  },
  {
   "cell_type": "code",
   "execution_count": null,
   "id": "8e82f3b7-a5f8-40a0-86c2-3b354745bc4d",
   "metadata": {},
   "outputs": [],
   "source": [
    "?np.random.randint\n",
    "# dual_ch_fake = np.random.randint(..., dtype=np.uint8))"
   ]
  },
  {
   "cell_type": "code",
   "execution_count": null,
   "id": "5900e14c-5cda-4d17-8519-d399503191c8",
   "metadata": {
    "tags": [
     "teacher"
    ]
   },
   "outputs": [],
   "source": [
    "dual_ch_fake = np.random.randint(0, 256, size=(2, 9, 10), dtype=np.uint8)"
   ]
  },
  {
   "cell_type": "markdown",
   "id": "d649c488-15a9-44f8-b45e-8dfb519a5f52",
   "metadata": {},
   "source": [
    "Let's plot the two channels:"
   ]
  },
  {
   "cell_type": "code",
   "execution_count": null,
   "id": "439da328-b0ca-4867-a70c-5a6163f2d4fa",
   "metadata": {},
   "outputs": [],
   "source": [
    "simpleplot(dual_ch_fake[0, :, :])"
   ]
  },
  {
   "cell_type": "code",
   "execution_count": null,
   "id": "9bbdc3cd-6554-473e-940e-9790d56be4eb",
   "metadata": {},
   "outputs": [],
   "source": [
    "simpleplot(dual_ch_fake[1, :, :])"
   ]
  },
  {
   "cell_type": "markdown",
   "id": "f62d9bab-8965-4dac-8974-77749863f874",
   "metadata": {},
   "source": [
    "### <mark style=\"color: black; background-color: rgb(252,185,118); padding: 3px; border-radius: 5px;\">✍️ Exercise (Bonus): Check whether ```np.mean``` does what you expect it to do without using ```numpy``` operations </mark>"
   ]
  },
  {
   "cell_type": "markdown",
   "id": "a282a272-6370-469b-b702-d8c165512d74",
   "metadata": {},
   "source": [
    "Reminder: We can calculate a mean image of the two channels like this: "
   ]
  },
  {
   "cell_type": "code",
   "execution_count": null,
   "id": "10537f93-95ea-4694-89bb-a194c60ed7ad",
   "metadata": {},
   "outputs": [],
   "source": [
    "mean_of_channels = np.mean(dual_ch_fake, axis=0)"
   ]
  },
  {
   "cell_type": "markdown",
   "id": "52a38a52-c7ed-4bc7-96bf-628f1ce1434f",
   "metadata": {},
   "source": [
    "And generate an array of each channel like this: "
   ]
  },
  {
   "cell_type": "code",
   "execution_count": null,
   "id": "c5931e86-192a-48c1-b9d4-a12bf63e0372",
   "metadata": {},
   "outputs": [],
   "source": [
    "ch_0 = dual_ch_fake[0, :, :].copy()\n",
    "ch_1 = dual_ch_fake[1, :, :].copy()"
   ]
  },
  {
   "cell_type": "markdown",
   "id": "c902a5e4",
   "metadata": {},
   "source": [
    "And compare two elements like this: "
   ]
  },
  {
   "cell_type": "code",
   "execution_count": null,
   "id": "3d9eb9c3",
   "metadata": {},
   "outputs": [],
   "source": [
    "a = 5\n",
    "b = 5\n",
    "a == b"
   ]
  },
  {
   "cell_type": "code",
   "execution_count": null,
   "id": "01cd6e87-9445-4681-a43b-14a03d46ea4f",
   "metadata": {
    "tags": [
     "teacher"
    ]
   },
   "outputs": [],
   "source": [
    "### Pitfall\n",
    "mean_of_channels == (ch_0 + ch_1) / 2  # integer overflow"
   ]
  },
  {
   "cell_type": "code",
   "execution_count": null,
   "id": "7b59fbbc-a7d8-4196-b980-90a6832cee7b",
   "metadata": {
    "tags": [
     "teacher"
    ]
   },
   "outputs": [],
   "source": [
    "### Possible solution:\n",
    "mean_manual = dual_ch_fake[0, :, :] / 2 + dual_ch_fake[1, :, :] / 2\n",
    "print(mean_of_channels == mean_manual)\n",
    "print(np.unique(mean_of_channels == mean_manual))"
   ]
  },
  {
   "cell_type": "markdown",
   "id": "df3d0932",
   "metadata": {},
   "source": [
    "### <mark style=\"color: black; background-color: rgb(190,223,185); padding: 3px; border-radius: 5px;\">Conclusion: Where possible, use ```numpy``` operations instead of writing your own operations!  </mark>"
   ]
  },
  {
   "cell_type": "markdown",
   "id": "2f894d18",
   "metadata": {},
   "source": [
    "***"
   ]
  },
  {
   "cell_type": "markdown",
   "id": "bf9e06b7-50c4-405a-a046-51d050a1b2f2",
   "metadata": {},
   "source": [
    "## <mark style=\"color: black; background-color: rgb(127,196,125); padding: 3px; border-radius: 5px;\">7. Visualization using ```matplotlib```</mark>"
   ]
  },
  {
   "cell_type": "code",
   "execution_count": null,
   "id": "5d4f71cf-6efd-45b8-8946-41c59d30b44d",
   "metadata": {},
   "outputs": [],
   "source": [
    "def show_2_channels(image: np.ndarray, figsize: tuple = (6, 3)) -> None:\n",
    "    \"\"\"\n",
    "    Show a 2-channel image with each channel in a separate subplot.\n",
    "    Parameters\n",
    "    ----------\n",
    "    image : np.ndarray\n",
    "        A 3D array of shape (2, height, width) representing a 2-channel image.\n",
    "    Each channel is expected to be a 2D array of pixel values.\n",
    "    \"\"\"\n",
    "    fig, axes = plt.subplots(1, 2, figsize=figsize)\n",
    "\n",
    "    for i in range(2):\n",
    "        im = axes[i].imshow(image[i, :, :], cmap=\"gray\", vmin=0, vmax=255)\n",
    "        axes[i].imshow(image[i, :, :], cmap=\"gray\", vmin=0, vmax=255)\n",
    "        axes[i].set_title(f\"Channel {i}\")\n",
    "        axes[i].axis(\"off\")\n",
    "        # Add colorbar for this subplot\n",
    "        fig.colorbar(im, ax=axes[i], fraction=0.046, pad=0.04)\n",
    "\n",
    "    plt.tight_layout()\n",
    "    plt.show()"
   ]
  },
  {
   "cell_type": "markdown",
   "id": "85d9aa41",
   "metadata": {},
   "source": [
    "Let's test the function using ```dual_ch_fake``` that we previously generated "
   ]
  },
  {
   "cell_type": "code",
   "execution_count": null,
   "id": "2a3a1945-9882-43c2-9a52-c1b58180ebb4",
   "metadata": {
    "scrolled": true
   },
   "outputs": [],
   "source": [
    "show_2_channels(dual_ch_fake)"
   ]
  },
  {
   "cell_type": "markdown",
   "id": "c4dea4b1-553c-4299-a4e8-c9aa068f089f",
   "metadata": {},
   "source": [
    "### <mark style=\"color: black; background-color: rgb(252,185,118); padding: 3px; border-radius: 5px;\">✍️ Exercise: plot all channels of the following image. Write a function ```show_all_channels()```.</mark>"
   ]
  },
  {
   "cell_type": "code",
   "execution_count": null,
   "id": "380faf7e-e6cc-44f3-9800-e6eb1e6075a5",
   "metadata": {},
   "outputs": [],
   "source": [
    "threechannel = np.random.randint(0, 256, size=(3, 5, 5), dtype=np.uint8)"
   ]
  },
  {
   "cell_type": "code",
   "execution_count": null,
   "id": "23ed7491-ef86-4ab1-940b-b3a60bab0bf4",
   "metadata": {},
   "outputs": [],
   "source": [
    "threechannel.shape"
   ]
  },
  {
   "cell_type": "code",
   "execution_count": null,
   "id": "13876979-14d7-4331-b9fb-54cb476f3c6d",
   "metadata": {},
   "outputs": [],
   "source": [
    "# This works, but it will only show the first two channels.\n",
    "show_2_channels(threechannel)"
   ]
  },
  {
   "cell_type": "code",
   "execution_count": null,
   "id": "89f48de6-2f49-41f9-81c9-005a069bf8f9",
   "metadata": {
    "tags": [
     "teacher"
    ]
   },
   "outputs": [],
   "source": [
    "def show_all_channels(\n",
    "    image: np.ndarray, nchannels: int | None = None, figsize: tuple = (6, 3)\n",
    ") -> None:\n",
    "    \"\"\"\n",
    "    Show all channels of a multi-channel image.\n",
    "    Parameters\n",
    "    ----------\n",
    "    image : np.ndarray\n",
    "        A 3D array of shape (nchannels, height, width) representing a multi-channel image.\n",
    "    Each channel is expected to be a 2D array of pixel values.\n",
    "    nchannels : int, optional\n",
    "        The number of channels in the image. If None, it will be inferred from the shape\n",
    "        of the image.\n",
    "    figsize : tuple, optional\n",
    "        The size of the figure to display the channels. Default is (6, 3).\n",
    "    \"\"\"\n",
    "    if not nchannels:\n",
    "        nchannels = image.shape[0]\n",
    "\n",
    "    fig, axes = plt.subplots(1, nchannels, figsize=figsize)\n",
    "    for i in range(nchannels):\n",
    "        vmax = np.max(image[i, :, :])\n",
    "        vmin = np.min(image[i, :, :])\n",
    "        im = axes[i].imshow(\n",
    "            image[i, :, :],\n",
    "            cmap=\"gray\",\n",
    "            vmin=vmin,\n",
    "            vmax=vmax,\n",
    "        )\n",
    "        axes[i].imshow(image[i, :, :], cmap=\"gray\", vmin=vmin, vmax=vmax)\n",
    "        axes[i].set_title(f\"Channel {i}\")\n",
    "        axes[i].axis(\"off\")\n",
    "\n",
    "        # Add colorbar for this subplot\n",
    "        fig.colorbar(im, ax=axes[i], fraction=0.046, pad=0.04)\n",
    "\n",
    "    plt.tight_layout()\n",
    "    plt.show()"
   ]
  },
  {
   "cell_type": "code",
   "execution_count": null,
   "id": "08feddbb-0789-44fb-b9af-2a1c2cc8af59",
   "metadata": {
    "scrolled": true
   },
   "outputs": [],
   "source": [
    "show_all_channels(threechannel)"
   ]
  },
  {
   "cell_type": "markdown",
   "id": "087e3cd9",
   "metadata": {},
   "source": [
    "***"
   ]
  },
  {
   "cell_type": "markdown",
   "id": "b4565262-8272-4d8b-933b-bd0d40c2109d",
   "metadata": {},
   "source": [
    "## <mark style=\"color: black; background-color: rgb(127,196,125); padding: 3px; border-radius: 5px;\">8. Bonus: read images using ```bioio```</mark>"
   ]
  },
  {
   "cell_type": "markdown",
   "id": "9de38239-4aeb-42b2-9f08-ac3c0f1283ef",
   "metadata": {},
   "source": [
    "### <mark style=\"color: black; background-color: rgb(190,223,185); padding: 3px; border-radius: 5px;\">```bioio``` can read various image file formats</mark>\n",
    "There are many ways of reading image files. \n",
    "[bioio](https://github.com/bioio-devs/bioio)\n",
    "can read images of different file-formats.  \n",
    "Different fileformats require different [plugins](https://github.com/bioio-devs/bioio) \n",
    "\n",
    "\n",
    "\n",
    "| Plug-in                | Extension   | Repository          |\n",
    "|------------------------|-------------|---------------------|\n",
    "| arraylike              | [ArrayLike](https://github.com/bioio-devs/bioio-base/blob/9ff0a17a20d09b1b11639d149b1e71801c9d68d8/bioio_base/types.py#L15)  | Built-In           |\n",
    "| bioio-czi              | .czi        | [Repo](https://github.com/bioio-devs/bioio-czi)           |\n",
    "| bioio-dv               | .dv, .r3d   | [Repo](https://github.com/bioio-devs/bioio-dv)           |\n",
    "| bioio-imageio          | .jpg, .png, [Full List](https://github.com/bioio-devs/bioio-imageio/blob/6829370644b9780cfde35fa9d2cd5cea9f743681/bioio_imageio/reader_metadata.py#L26)  | [Repo](https://github.com/bioio-devs/bioio-imageio)           |\n",
    "| bioio-lif              | .lif        | [Repo](https://github.com/bioio-devs/bioio-lif)           |\n",
    "| bioio-nd2              | .nd2        | [Repo](https://github.com/bioio-devs/bioio-nd2)           |\n",
    "| bioio-ome-tiff         | .ome.tiff, .tiff  | [Repo](https://github.com/bioio-devs/bioio-ome-tiff)           |\n",
    "| bioio-ome-tiled-tiff   | .tiles.ome.tif   | [Repo](https://github.com/bioio-devs/bioio-ome-tiled-tiff)           |\n",
    "| bioio-ome-zarr         | .zarr       | [Repo](https://github.com/bioio-devs/bioio-ome-zarr)           |\n",
    "| bioio-sldy             | .sldy, .dir | [Repo](https://github.com/bioio-devs/bioio-sldy)           |\n",
    "| bioio-tifffile         | .tif , .tiff| [Repo](https://github.com/bioio-devs/bioio-tifffile)           |\n",
    "| bioio-tiff-glob        | .tiff (glob)| [Repo](https://github.com/bioio-devs/bioio-tiff-glob)           |\n",
    "| bioio-bioformats       | [Full List](https://github.com/bioio-devs/bioio-bioformats/blob/175399d10d64194adcc7a6048c7b7537591824de/bioio_bioformats/reader_metadata.py#L24) | [Repo](https://github.com/bioio-devs/bioio-bioformats)    \n",
    "\n",
    "\n",
    "\n",
    "We use [bioio-nd2](https://github.com/bioio-devs/bioio-nd2) to read an nd2 file.  "
   ]
  },
  {
   "cell_type": "markdown",
   "id": "c4fb0076-3502-4395-81d4-0bed3fc001b0",
   "metadata": {},
   "source": [
    "### <mark style=\"color: black; background-color: rgb(126,172,182); padding: 3px; border-radius: 5px;\">Example: Read an nd2 file using ```bioio```</mark>\n",
    "```bioio``` documentation: https://bioio-devs.github.io/bioio/OVERVIEW.html  \n",
    "Reminder: we import the relevant packages using \n",
    "\n",
    "```python\n",
    "from bioio import BioImage\n",
    "import bioio-nd2\n",
    "```\n"
   ]
  },
  {
   "cell_type": "markdown",
   "id": "59bd37b8-4fbe-48fb-8ddd-765ebe339d98",
   "metadata": {},
   "source": [
    "```bioio``` loads the image and metadata into a container. We name the container ```img```"
   ]
  },
  {
   "cell_type": "code",
   "execution_count": null,
   "id": "71bf52ff-b8a5-4b1f-8b00-717e96b9e6f2",
   "metadata": {},
   "outputs": [],
   "source": [
    "nd2_path = \"../../_static/images/python4bia/single_pos_002.nd2\"\n",
    "img = BioImage(nd2_path)"
   ]
  },
  {
   "cell_type": "code",
   "execution_count": null,
   "id": "f29c824f-0499-4303-b8c3-947dadbf12ee",
   "metadata": {},
   "outputs": [],
   "source": [
    "type(img)"
   ]
  },
  {
   "cell_type": "markdown",
   "id": "a2b1c905-9373-47e0-8ab1-9d54a6637c07",
   "metadata": {},
   "source": [
    "### <mark style=\"color: black; background-color: rgb(252,185,118); padding: 3px; border-radius: 5px;\">✍️ Exercise: Inspect properties of ```img```</mark>\n",
    "Below are a few examples of how to show properties of ```img``` taken from [here](https://github.com/bioio-devs/bioio).  \n",
    "Execute a few of them\n",
    "\n",
    "```python \n",
    "# Get a BioImage object\n",
    "img = BioImage(\"my_file.tiff\")  # selects the first scene found\n",
    "img.data  # returns 5D TCZYX ```numpy``` array\n",
    "img.xarray_data  # returns 5D TCZYX xarray data array backed by numpy\n",
    "img.dims  # returns a Dimensions object\n",
    "img.dims.order  # returns string \"TCZYX\"\n",
    "img.dims.X  # returns size of X dimension\n",
    "img.shape  # returns tuple of dimension sizes in TCZYX order\n",
    "img.get_image_data(\"CZYX\", T=0)  # returns 4D CZYX numpy array\n",
    "\n",
    "```"
   ]
  },
  {
   "cell_type": "code",
   "execution_count": null,
   "id": "c6e06d59-daee-4b49-8af5-5cda16ab4918",
   "metadata": {
    "tags": [
     "teacher"
    ]
   },
   "outputs": [],
   "source": [
    "print(img.dims.order)\n",
    "print(img.dims)\n",
    "print(img.shape)"
   ]
  },
  {
   "cell_type": "markdown",
   "id": "fbae4140-bbe4-4444-acfa-6258f28f4707",
   "metadata": {},
   "source": [
    "### <mark style=\"color: black; background-color: rgb(190,223,185); padding: 3px; border-radius: 5px;\">Extract a ```numpy``` array from the BioImage object</mark>"
   ]
  },
  {
   "cell_type": "markdown",
   "id": "52d703a7-fee5-478c-9c02-3eea3aa84aec",
   "metadata": {},
   "source": [
    "[numpy documentation](https://numpy.org/doc/stable/)\n",
    "\n",
    "Reminder: we import ```numpy``` as follows: \n",
    "```python\n",
    "import numpy as np\n",
    "```"
   ]
  },
  {
   "cell_type": "code",
   "execution_count": null,
   "id": "4b3515c6-cfb2-4a0b-8a9c-2bd2f7acc3d4",
   "metadata": {},
   "outputs": [],
   "source": [
    "# the image is contained in img.data\n",
    "cells = img.data"
   ]
  },
  {
   "cell_type": "code",
   "execution_count": null,
   "id": "0df5891a-60d0-413c-99b4-8bdc7a28ef95",
   "metadata": {},
   "outputs": [],
   "source": [
    "type(cells)  # verify it's a numpy array"
   ]
  },
  {
   "cell_type": "code",
   "execution_count": null,
   "id": "76dcc1f1-1959-424d-9c82-3d9808d59b7a",
   "metadata": {
    "scrolled": true
   },
   "outputs": [],
   "source": [
    "cells.dtype  # check the datatype"
   ]
  },
  {
   "cell_type": "markdown",
   "id": "0004d674-cdc2-4de4-928e-093c0159bbd8",
   "metadata": {},
   "source": [
    "### <mark style=\"color: black; background-color: rgb(190,223,185); padding: 3px; border-radius: 5px;\">Inspect dimensions of ```stack```</mark>"
   ]
  },
  {
   "cell_type": "code",
   "execution_count": null,
   "id": "8535d9b2-a764-4edb-9fc0-00cdcbdf2097",
   "metadata": {},
   "outputs": [],
   "source": [
    "print(img.dims)  # Reminder:\n",
    "print(cells.shape)  # only one time-point. This is like a movie with only one frame!"
   ]
  },
  {
   "cell_type": "markdown",
   "id": "bc2dfc73-9b93-4566-8083-1c3b0705681a",
   "metadata": {},
   "source": [
    "### <mark style=\"color: black; background-color: rgb(190,223,185); padding: 3px; border-radius: 5px;\">Use ```.squeeze()``` to remove axes of length one</mark>"
   ]
  },
  {
   "cell_type": "markdown",
   "id": "94bb314e-3dca-4196-b6a8-33ddb5558b38",
   "metadata": {},
   "source": [
    "To test these concepts, we first generate an array **without** an axis of size one:"
   ]
  },
  {
   "cell_type": "code",
   "execution_count": null,
   "id": "e34c4b25-cd91-44cf-af60-713aa4bd4bb5",
   "metadata": {},
   "outputs": [],
   "source": [
    "simple_list = [1, 2, 3]\n",
    "simple_array = np.array(simple_list)  # Turn the list into a numpy array\n",
    "\n",
    "# print a few properties of simple_array\n",
    "print(type(simple_array))\n",
    "print(simple_array)\n",
    "print(simple_array.shape)"
   ]
  },
  {
   "cell_type": "markdown",
   "id": "541f15fa-b5ba-4327-b491-6dae5fed70fc",
   "metadata": {},
   "source": [
    "Now, generate an array **with** an axis of length one:"
   ]
  },
  {
   "cell_type": "code",
   "execution_count": null,
   "id": "184487a2-b056-405c-999b-25b6f6052c72",
   "metadata": {},
   "outputs": [],
   "source": [
    "nested_list = [[1, 2, 3]]  # There's extra brackets!\n",
    "nested_array = np.array(nested_list)\n",
    "\n",
    "# print a few properties of nested_array\n",
    "print(type(simple_array))\n",
    "print(nested_array)\n",
    "print(nested_array.shape)"
   ]
  },
  {
   "cell_type": "markdown",
   "id": "9301cbcf-cad0-46c8-8c39-69dcb889c046",
   "metadata": {},
   "source": [
    "Next, ```.squeeze()``` removes axes of length one: "
   ]
  },
  {
   "cell_type": "code",
   "execution_count": null,
   "id": "c9f1cc23-4ba3-428c-a5d9-08e23fb8ef93",
   "metadata": {},
   "outputs": [],
   "source": [
    "nested_array_squeezed = nested_array.squeeze()\n",
    "\n",
    "# print a few properties of nested_array_squeezed\n",
    "print(type(nested_array_squeezed))\n",
    "print(nested_array_squeezed)\n",
    "print(nested_array_squeezed.shape)"
   ]
  },
  {
   "cell_type": "markdown",
   "id": "81a9878f-a24b-470c-bc66-4a5156487484",
   "metadata": {},
   "source": [
    "### <mark style=\"color: black; background-color: rgb(252,185,118); padding: 3px; border-radius: 5px;\">✍️ Exercise: apply this to image `cells` and print its shape</mark>"
   ]
  },
  {
   "cell_type": "code",
   "execution_count": null,
   "id": "1db3ba59-ae9b-436a-bd3a-701b28a33d38",
   "metadata": {
    "tags": [
     "teacher"
    ]
   },
   "outputs": [],
   "source": [
    "cells = cells.squeeze()\n",
    "print(cells.shape)"
   ]
  },
  {
   "cell_type": "markdown",
   "id": "c81450db-7b6e-4653-9337-435f85c6db17",
   "metadata": {},
   "source": [
    "Congratulations! ```cells``` is now in the correct format to be viewed and modified! "
   ]
  },
  {
   "cell_type": "markdown",
   "id": "7ac81792-b444-454d-a734-d9ff593d5ba3",
   "metadata": {},
   "source": [
    "### <mark style=\"color: black; background-color: rgb(252,185,118); padding: 3px; border-radius: 5px;\">✍️ Exercise: Plot ```cells```</mark>"
   ]
  },
  {
   "cell_type": "code",
   "execution_count": null,
   "id": "384a070f-e69e-40c3-882b-f1363ddd484c",
   "metadata": {
    "tags": [
     "teacher"
    ]
   },
   "outputs": [],
   "source": [
    "# previously, we ran show_all_channels() on threechannel. Compare cells and threechannel:\n",
    "print(cells.shape)\n",
    "print(cells.dtype)\n",
    "print(threechannel.shape)\n",
    "print(threechannel.dtype)"
   ]
  },
  {
   "cell_type": "code",
   "execution_count": null,
   "id": "69ac70d4",
   "metadata": {
    "tags": [
     "teacher"
    ]
   },
   "outputs": [],
   "source": [
    "show_all_channels(cells, figsize=(12, 6))"
   ]
  },
  {
   "cell_type": "code",
   "execution_count": null,
   "id": "62ed74e0",
   "metadata": {},
   "outputs": [],
   "source": []
  }
 ],
 "metadata": {
  "kernelspec": {
   "display_name": "bobiac",
   "language": "python",
   "name": "python3"
  },
  "language_info": {
   "codemirror_mode": {
    "name": "ipython",
    "version": 3
   },
   "file_extension": ".py",
   "mimetype": "text/x-python",
   "name": "python",
   "nbconvert_exporter": "python",
   "pygments_lexer": "ipython3",
   "version": "3.12.11"
  }
 },
 "nbformat": 4,
 "nbformat_minor": 5
}
